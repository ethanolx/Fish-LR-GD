{
 "cells": [
  {
   "cell_type": "markdown",
   "source": [
    "## Import Dependencies"
   ],
   "metadata": {}
  },
  {
   "cell_type": "code",
   "execution_count": 1,
   "source": [
    "import numpy as np\r\n",
    "import sympy as sp\r\n",
    "import pandas as pd\r\n",
    "\r\n",
    "import matplotlib.pyplot as plt\r\n",
    "import seaborn as sns\r\n",
    "\r\n",
    "from typing import List, Tuple, Dict, Callable"
   ],
   "outputs": [],
   "metadata": {}
  },
  {
   "cell_type": "markdown",
   "source": [
    "## Import Data"
   ],
   "metadata": {}
  },
  {
   "cell_type": "code",
   "execution_count": 2,
   "source": [
    "df = pd.read_csv('./fish.csv', sep=',', header=0)\r\n",
    "df.head()"
   ],
   "outputs": [
    {
     "output_type": "execute_result",
     "data": {
      "text/plain": [
       "   Weight  Length   Width\n",
       "0      67     9.3  1.0476\n",
       "1      75    10.0  1.1600\n",
       "2      70    10.1  1.1484\n",
       "3      72    10.1  1.1821\n",
       "4      79    10.2  1.2560"
      ],
      "text/html": [
       "<div>\n",
       "<style scoped>\n",
       "    .dataframe tbody tr th:only-of-type {\n",
       "        vertical-align: middle;\n",
       "    }\n",
       "\n",
       "    .dataframe tbody tr th {\n",
       "        vertical-align: top;\n",
       "    }\n",
       "\n",
       "    .dataframe thead th {\n",
       "        text-align: right;\n",
       "    }\n",
       "</style>\n",
       "<table border=\"1\" class=\"dataframe\">\n",
       "  <thead>\n",
       "    <tr style=\"text-align: right;\">\n",
       "      <th></th>\n",
       "      <th>Weight</th>\n",
       "      <th>Length</th>\n",
       "      <th>Width</th>\n",
       "    </tr>\n",
       "  </thead>\n",
       "  <tbody>\n",
       "    <tr>\n",
       "      <th>0</th>\n",
       "      <td>67</td>\n",
       "      <td>9.3</td>\n",
       "      <td>1.0476</td>\n",
       "    </tr>\n",
       "    <tr>\n",
       "      <th>1</th>\n",
       "      <td>75</td>\n",
       "      <td>10.0</td>\n",
       "      <td>1.1600</td>\n",
       "    </tr>\n",
       "    <tr>\n",
       "      <th>2</th>\n",
       "      <td>70</td>\n",
       "      <td>10.1</td>\n",
       "      <td>1.1484</td>\n",
       "    </tr>\n",
       "    <tr>\n",
       "      <th>3</th>\n",
       "      <td>72</td>\n",
       "      <td>10.1</td>\n",
       "      <td>1.1821</td>\n",
       "    </tr>\n",
       "    <tr>\n",
       "      <th>4</th>\n",
       "      <td>79</td>\n",
       "      <td>10.2</td>\n",
       "      <td>1.2560</td>\n",
       "    </tr>\n",
       "  </tbody>\n",
       "</table>\n",
       "</div>"
      ]
     },
     "metadata": {},
     "execution_count": 2
    }
   ],
   "metadata": {}
  },
  {
   "cell_type": "markdown",
   "source": [
    "## Part 1"
   ],
   "metadata": {}
  },
  {
   "cell_type": "code",
   "execution_count": 53,
   "source": [
    "def gradient_descent_b(df: pd.DataFrame, b_start: float, alpha: float = 0.01, epsilon: float = 0.0001, max_iter: int = 100):\r\n",
    "    def E(df: pd.DataFrame, b: float, a: float = 0.0):\r\n",
    "        y_true = df['Weight']\r\n",
    "        y_hat = b * df['Length']\r\n",
    "        err = y_true - y_hat\r\n",
    "        return (err ** 2).mean()\r\n",
    "\r\n",
    "    def E_b(df:pd.DataFrame, b: float, a: float = 0.0):\r\n",
    "        y_true = df['Weight']\r\n",
    "        y_hat = b * df['Length']\r\n",
    "        err = y_true - y_hat\r\n",
    "        return -2 * (err * df['Length']).mean()\r\n",
    "\r\n",
    "    def gradient_descent(\r\n",
    "        df: pd.DataFrame,\r\n",
    "        f: Callable, f_b: Callable, b_start: float,\r\n",
    "        alpha: float = 0.01, epsilon: float = 0.0001,\r\n",
    "        max_iter: int = 100\r\n",
    "    ):\r\n",
    "        b = b_start\r\n",
    "        difference = epsilon + 1\r\n",
    "        e = f(df, b)\r\n",
    "\r\n",
    "        print(f'i=0; b={b:.2f}; e={e:.2f}')\r\n",
    "\r\n",
    "        for i in range(1, max_iter + 1):\r\n",
    "            b_next = b - alpha * f_b(df, b)\r\n",
    "            e_next = f(df, b_next)\r\n",
    "            difference = abs(e_next - e)\r\n",
    "            print(f'\\ri={i}; b={b:10.5f}; e={e:10.5f}', end='')\r\n",
    "            b = b_next\r\n",
    "            e = e_next\r\n",
    "            if difference < epsilon:\r\n",
    "                break\r\n",
    "        \r\n",
    "        print(f'\\ni={i}; b={b:.5f}; e={e:.5f}')\r\n",
    "\r\n",
    "    gradient_descent(df=df, f=E, f_b=E_b, b_start=b_start, alpha=alpha, epsilon=epsilon, max_iter=max_iter)\r\n",
    "\r\n",
    "gradient_descent_b(df=df, b_start=8, alpha=0.004, epsilon=0.00001, max_iter=100)"
   ],
   "outputs": [
    {
     "output_type": "stream",
     "name": "stdout",
     "text": [
      "i=0; b=8.00; e=1715.87\n",
      "i=5; b=  10.55546; e= 851.30938\n",
      "i=5; b=10.55549; e=851.30938\n"
     ]
    }
   ],
   "metadata": {}
  },
  {
   "cell_type": "markdown",
   "source": [
    "## Part 2"
   ],
   "metadata": {}
  },
  {
   "cell_type": "code",
   "execution_count": 88,
   "source": [
    "def gradient_descent_a_b(\r\n",
    "    df: pd.DataFrame, \r\n",
    "    a_start: float, b_start: float,\r\n",
    "    alpha: float = 0.01, epsilon: float = 0.0001, max_iter: int = 100\r\n",
    "):\r\n",
    "\r\n",
    "    def E(df: pd.DataFrame, a: float, b: float):\r\n",
    "        y_true = df['Weight']\r\n",
    "        y_hat = b * df['Length'] + a\r\n",
    "        err = y_true - y_hat\r\n",
    "        return (err ** 2).mean()\r\n",
    "    \r\n",
    "    def E_a(df: pd.DataFrame, a: float, b: float):\r\n",
    "        y_true = df['Weight']\r\n",
    "        y_hat = b * df['Length'] + a\r\n",
    "        err = y_true - y_hat\r\n",
    "        return -2 * err.mean()\r\n",
    "\r\n",
    "    def E_b(df:pd.DataFrame, a: float, b: float):\r\n",
    "        y_true = df['Weight']\r\n",
    "        y_hat = b * df['Length'] + a\r\n",
    "        err = y_true - y_hat\r\n",
    "        return -2 * (err * df['Length']).mean()\r\n",
    "\r\n",
    "    def gradient_descent(\r\n",
    "        df: pd.DataFrame,\r\n",
    "        f: Callable, f_a: Callable, f_b: Callable,\r\n",
    "        a_start: float, b_start: float,\r\n",
    "        alpha: float = 0.001, epsilon: float = 0.0001,\r\n",
    "        max_iter: int = 100\r\n",
    "    ):\r\n",
    "\r\n",
    "        a = a_start\r\n",
    "        b = b_start\r\n",
    "        difference = epsilon + 1\r\n",
    "        e = f(df, a=a, b=b)\r\n",
    "\r\n",
    "        print(f'i=0; a={a:10.2f}; b={b:10.2f}; e={e:10.2f}')\r\n",
    "\r\n",
    "        for i in range(1, max_iter + 1):\r\n",
    "            pd_b = f_b(df, a=a, b=b)\r\n",
    "            pd_a = f_a(df, a=a, b=b)\r\n",
    "            b_next = b - alpha * pd_b\r\n",
    "            a_next = a - alpha * pd_a\r\n",
    "            e_next = f(df, a=a_next, b=b_next)\r\n",
    "            difference = abs(e_next - e)\r\n",
    "            print(f'\\ri={i}; a={a:10.5f}; b={b:10.5f}; e={e:10.5f}', end='')\r\n",
    "            if min(difference, pd_a ** 2 + pd_b ** 2) < epsilon:\r\n",
    "                break\r\n",
    "            b = b_next\r\n",
    "            a = a_next\r\n",
    "            e = e_next\r\n",
    "\r\n",
    "        print(f'\\ni={i}; a={a:10.5f}; b={b:10.5f}; e={e:10.5f}; v={pd_a ** 2 + pd_b ** 2}')\r\n",
    "\r\n",
    "    gradient_descent(df=df, f=E, f_a=E_a, f_b=E_b, a_start=a_start, b_start=b_start, alpha=alpha, epsilon=epsilon, max_iter=max_iter)\r\n",
    "\r\n",
    "gradient_descent_a_b(df=df, a_start=-250, b_start=30, alpha=0.007, epsilon=0.001, max_iter=1000)"
   ],
   "outputs": [
    {
     "output_type": "stream",
     "name": "stdout",
     "text": [
      "i=0; a=   -250.00; b=     30.00; e=    765.76\n",
      "i=49; a=-249.92471; b=  32.16480; e= 140.22051\n",
      "i=49; a=-249.92471; b=  32.16480; e= 140.22051; v=0.49598513403284294\n"
     ]
    }
   ],
   "metadata": {}
  },
  {
   "cell_type": "code",
   "execution_count": 123,
   "source": [
    "def plot_predictions(df: pd.DataFrame, model1: Dict[str, float], model2: Dict[str, float]):\r\n",
    "    with sns.axes_style(style='darkgrid'):\r\n",
    "        with sns.color_palette(palette='turbo'):\r\n",
    "            fig, ax = plt.subplots()\r\n",
    "            sns.scatterplot(data=df, x='Length', y='Weight', ax=ax)\r\n",
    "            x_bounds = np.array(ax.get_xlim())\r\n",
    "\r\n",
    "            sns.lineplot(x=x_bounds, y=model1['b'] * x_bounds, ax=ax, color='tab:green')\r\n",
    "            sns.lineplot(x=x_bounds, y=model2['a'] + model2['b'] * x_bounds, ax=ax, color='tab:orange')\r\n",
    "\r\n",
    "            ax.set_xlabel('Length / cm')\r\n",
    "            ax.set_ylabel('Weight / 0.1g')\r\n",
    "            ax.set_title(label='Scatterplot of Weight against Length')\r\n",
    "\r\n",
    "            ax.legend(labels=('Model 1 Prediction', 'Model 2 Prediction', 'Actual Values'))\r\n",
    "\r\n",
    "            plt.savefig(fname='./scatterplot-best-fit-lines.png')\r\n",
    "\r\n",
    "plot_predictions(df=df, model1={'b': 10.55549}, model2={'a': -249.92471, 'b': 32.16480})"
   ],
   "outputs": [
    {
     "output_type": "display_data",
     "data": {
      "text/plain": [
       "<Figure size 432x288 with 1 Axes>"
      ],
      "image/svg+xml": "<?xml version=\"1.0\" encoding=\"utf-8\" standalone=\"no\"?>\r\n<!DOCTYPE svg PUBLIC \"-//W3C//DTD SVG 1.1//EN\"\r\n  \"http://www.w3.org/Graphics/SVG/1.1/DTD/svg11.dtd\">\r\n<!-- Created with matplotlib (https://matplotlib.org/) -->\r\n<svg height=\"277.314375pt\" version=\"1.1\" viewBox=\"0 0 388.965625 277.314375\" width=\"388.965625pt\" xmlns=\"http://www.w3.org/2000/svg\" xmlns:xlink=\"http://www.w3.org/1999/xlink\">\r\n <metadata>\r\n  <rdf:RDF xmlns:cc=\"http://creativecommons.org/ns#\" xmlns:dc=\"http://purl.org/dc/elements/1.1/\" xmlns:rdf=\"http://www.w3.org/1999/02/22-rdf-syntax-ns#\">\r\n   <cc:Work>\r\n    <dc:type rdf:resource=\"http://purl.org/dc/dcmitype/StillImage\"/>\r\n    <dc:date>2021-08-17T17:39:55.176062</dc:date>\r\n    <dc:format>image/svg+xml</dc:format>\r\n    <dc:creator>\r\n     <cc:Agent>\r\n      <dc:title>Matplotlib v3.3.2, https://matplotlib.org/</dc:title>\r\n     </cc:Agent>\r\n    </dc:creator>\r\n   </cc:Work>\r\n  </rdf:RDF>\r\n </metadata>\r\n <defs>\r\n  <style type=\"text/css\">*{stroke-linecap:butt;stroke-linejoin:round;}</style>\r\n </defs>\r\n <g id=\"figure_1\">\r\n  <g id=\"patch_1\">\r\n   <path d=\"M 0 277.314375 \r\nL 388.965625 277.314375 \r\nL 388.965625 0 \r\nL 0 0 \r\nz\r\n\" style=\"fill:#ffffff;\"/>\r\n  </g>\r\n  <g id=\"axes_1\">\r\n   <g id=\"patch_2\">\r\n    <path d=\"M 46.965625 239.758125 \r\nL 381.765625 239.758125 \r\nL 381.765625 22.318125 \r\nL 46.965625 22.318125 \r\nz\r\n\" style=\"fill:#eaeaf2;\"/>\r\n   </g>\r\n   <g id=\"matplotlib.axis_1\">\r\n    <g id=\"xtick_1\">\r\n     <g id=\"line2d_1\">\r\n      <path clip-path=\"url(#pd1287a9f3f)\" d=\"M 57.572237 239.758125 \r\nL 57.572237 22.318125 \r\n\" style=\"fill:none;stroke:#ffffff;stroke-linecap:round;stroke-width:0.8;\"/>\r\n     </g>\r\n     <g id=\"text_1\">\r\n      <!-- 9 -->\r\n      <g style=\"fill:#262626;\" transform=\"translate(54.390987 254.356562)scale(0.1 -0.1)\">\r\n       <defs>\r\n        <path d=\"M 10.984375 1.515625 \r\nL 10.984375 10.5 \r\nQ 14.703125 8.734375 18.5 7.8125 \r\nQ 22.3125 6.890625 25.984375 6.890625 \r\nQ 35.75 6.890625 40.890625 13.453125 \r\nQ 46.046875 20.015625 46.78125 33.40625 \r\nQ 43.953125 29.203125 39.59375 26.953125 \r\nQ 35.25 24.703125 29.984375 24.703125 \r\nQ 19.046875 24.703125 12.671875 31.3125 \r\nQ 6.296875 37.9375 6.296875 49.421875 \r\nQ 6.296875 60.640625 12.9375 67.421875 \r\nQ 19.578125 74.21875 30.609375 74.21875 \r\nQ 43.265625 74.21875 49.921875 64.515625 \r\nQ 56.59375 54.828125 56.59375 36.375 \r\nQ 56.59375 19.140625 48.40625 8.859375 \r\nQ 40.234375 -1.421875 26.421875 -1.421875 \r\nQ 22.703125 -1.421875 18.890625 -0.6875 \r\nQ 15.09375 0.046875 10.984375 1.515625 \r\nz\r\nM 30.609375 32.421875 \r\nQ 37.25 32.421875 41.125 36.953125 \r\nQ 45.015625 41.5 45.015625 49.421875 \r\nQ 45.015625 57.28125 41.125 61.84375 \r\nQ 37.25 66.40625 30.609375 66.40625 \r\nQ 23.96875 66.40625 20.09375 61.84375 \r\nQ 16.21875 57.28125 16.21875 49.421875 \r\nQ 16.21875 41.5 20.09375 36.953125 \r\nQ 23.96875 32.421875 30.609375 32.421875 \r\nz\r\n\" id=\"DejaVuSans-57\"/>\r\n       </defs>\r\n       <use xlink:href=\"#DejaVuSans-57\"/>\r\n      </g>\r\n     </g>\r\n    </g>\r\n    <g id=\"xtick_2\">\r\n     <g id=\"line2d_2\">\r\n      <path clip-path=\"url(#pd1287a9f3f)\" d=\"M 119.05984 239.758125 \r\nL 119.05984 22.318125 \r\n\" style=\"fill:none;stroke:#ffffff;stroke-linecap:round;stroke-width:0.8;\"/>\r\n     </g>\r\n     <g id=\"text_2\">\r\n      <!-- 10 -->\r\n      <g style=\"fill:#262626;\" transform=\"translate(112.69734 254.356562)scale(0.1 -0.1)\">\r\n       <defs>\r\n        <path d=\"M 12.40625 8.296875 \r\nL 28.515625 8.296875 \r\nL 28.515625 63.921875 \r\nL 10.984375 60.40625 \r\nL 10.984375 69.390625 \r\nL 28.421875 72.90625 \r\nL 38.28125 72.90625 \r\nL 38.28125 8.296875 \r\nL 54.390625 8.296875 \r\nL 54.390625 0 \r\nL 12.40625 0 \r\nz\r\n\" id=\"DejaVuSans-49\"/>\r\n        <path d=\"M 31.78125 66.40625 \r\nQ 24.171875 66.40625 20.328125 58.90625 \r\nQ 16.5 51.421875 16.5 36.375 \r\nQ 16.5 21.390625 20.328125 13.890625 \r\nQ 24.171875 6.390625 31.78125 6.390625 \r\nQ 39.453125 6.390625 43.28125 13.890625 \r\nQ 47.125 21.390625 47.125 36.375 \r\nQ 47.125 51.421875 43.28125 58.90625 \r\nQ 39.453125 66.40625 31.78125 66.40625 \r\nz\r\nM 31.78125 74.21875 \r\nQ 44.046875 74.21875 50.515625 64.515625 \r\nQ 56.984375 54.828125 56.984375 36.375 \r\nQ 56.984375 17.96875 50.515625 8.265625 \r\nQ 44.046875 -1.421875 31.78125 -1.421875 \r\nQ 19.53125 -1.421875 13.0625 8.265625 \r\nQ 6.59375 17.96875 6.59375 36.375 \r\nQ 6.59375 54.828125 13.0625 64.515625 \r\nQ 19.53125 74.21875 31.78125 74.21875 \r\nz\r\n\" id=\"DejaVuSans-48\"/>\r\n       </defs>\r\n       <use xlink:href=\"#DejaVuSans-49\"/>\r\n       <use x=\"63.623047\" xlink:href=\"#DejaVuSans-48\"/>\r\n      </g>\r\n     </g>\r\n    </g>\r\n    <g id=\"xtick_3\">\r\n     <g id=\"line2d_3\">\r\n      <path clip-path=\"url(#pd1287a9f3f)\" d=\"M 180.547443 239.758125 \r\nL 180.547443 22.318125 \r\n\" style=\"fill:none;stroke:#ffffff;stroke-linecap:round;stroke-width:0.8;\"/>\r\n     </g>\r\n     <g id=\"text_3\">\r\n      <!-- 11 -->\r\n      <g style=\"fill:#262626;\" transform=\"translate(174.184943 254.356562)scale(0.1 -0.1)\">\r\n       <use xlink:href=\"#DejaVuSans-49\"/>\r\n       <use x=\"63.623047\" xlink:href=\"#DejaVuSans-49\"/>\r\n      </g>\r\n     </g>\r\n    </g>\r\n    <g id=\"xtick_4\">\r\n     <g id=\"line2d_4\">\r\n      <path clip-path=\"url(#pd1287a9f3f)\" d=\"M 242.035046 239.758125 \r\nL 242.035046 22.318125 \r\n\" style=\"fill:none;stroke:#ffffff;stroke-linecap:round;stroke-width:0.8;\"/>\r\n     </g>\r\n     <g id=\"text_4\">\r\n      <!-- 12 -->\r\n      <g style=\"fill:#262626;\" transform=\"translate(235.672546 254.356562)scale(0.1 -0.1)\">\r\n       <defs>\r\n        <path d=\"M 19.1875 8.296875 \r\nL 53.609375 8.296875 \r\nL 53.609375 0 \r\nL 7.328125 0 \r\nL 7.328125 8.296875 \r\nQ 12.9375 14.109375 22.625 23.890625 \r\nQ 32.328125 33.6875 34.8125 36.53125 \r\nQ 39.546875 41.84375 41.421875 45.53125 \r\nQ 43.3125 49.21875 43.3125 52.78125 \r\nQ 43.3125 58.59375 39.234375 62.25 \r\nQ 35.15625 65.921875 28.609375 65.921875 \r\nQ 23.96875 65.921875 18.8125 64.3125 \r\nQ 13.671875 62.703125 7.8125 59.421875 \r\nL 7.8125 69.390625 \r\nQ 13.765625 71.78125 18.9375 73 \r\nQ 24.125 74.21875 28.421875 74.21875 \r\nQ 39.75 74.21875 46.484375 68.546875 \r\nQ 53.21875 62.890625 53.21875 53.421875 \r\nQ 53.21875 48.921875 51.53125 44.890625 \r\nQ 49.859375 40.875 45.40625 35.40625 \r\nQ 44.1875 33.984375 37.640625 27.21875 \r\nQ 31.109375 20.453125 19.1875 8.296875 \r\nz\r\n\" id=\"DejaVuSans-50\"/>\r\n       </defs>\r\n       <use xlink:href=\"#DejaVuSans-49\"/>\r\n       <use x=\"63.623047\" xlink:href=\"#DejaVuSans-50\"/>\r\n      </g>\r\n     </g>\r\n    </g>\r\n    <g id=\"xtick_5\">\r\n     <g id=\"line2d_5\">\r\n      <path clip-path=\"url(#pd1287a9f3f)\" d=\"M 303.52265 239.758125 \r\nL 303.52265 22.318125 \r\n\" style=\"fill:none;stroke:#ffffff;stroke-linecap:round;stroke-width:0.8;\"/>\r\n     </g>\r\n     <g id=\"text_5\">\r\n      <!-- 13 -->\r\n      <g style=\"fill:#262626;\" transform=\"translate(297.16015 254.356562)scale(0.1 -0.1)\">\r\n       <defs>\r\n        <path d=\"M 40.578125 39.3125 \r\nQ 47.65625 37.796875 51.625 33 \r\nQ 55.609375 28.21875 55.609375 21.1875 \r\nQ 55.609375 10.40625 48.1875 4.484375 \r\nQ 40.765625 -1.421875 27.09375 -1.421875 \r\nQ 22.515625 -1.421875 17.65625 -0.515625 \r\nQ 12.796875 0.390625 7.625 2.203125 \r\nL 7.625 11.71875 \r\nQ 11.71875 9.328125 16.59375 8.109375 \r\nQ 21.484375 6.890625 26.8125 6.890625 \r\nQ 36.078125 6.890625 40.9375 10.546875 \r\nQ 45.796875 14.203125 45.796875 21.1875 \r\nQ 45.796875 27.640625 41.28125 31.265625 \r\nQ 36.765625 34.90625 28.71875 34.90625 \r\nL 20.21875 34.90625 \r\nL 20.21875 43.015625 \r\nL 29.109375 43.015625 \r\nQ 36.375 43.015625 40.234375 45.921875 \r\nQ 44.09375 48.828125 44.09375 54.296875 \r\nQ 44.09375 59.90625 40.109375 62.90625 \r\nQ 36.140625 65.921875 28.71875 65.921875 \r\nQ 24.65625 65.921875 20.015625 65.03125 \r\nQ 15.375 64.15625 9.8125 62.3125 \r\nL 9.8125 71.09375 \r\nQ 15.4375 72.65625 20.34375 73.4375 \r\nQ 25.25 74.21875 29.59375 74.21875 \r\nQ 40.828125 74.21875 47.359375 69.109375 \r\nQ 53.90625 64.015625 53.90625 55.328125 \r\nQ 53.90625 49.265625 50.4375 45.09375 \r\nQ 46.96875 40.921875 40.578125 39.3125 \r\nz\r\n\" id=\"DejaVuSans-51\"/>\r\n       </defs>\r\n       <use xlink:href=\"#DejaVuSans-49\"/>\r\n       <use x=\"63.623047\" xlink:href=\"#DejaVuSans-51\"/>\r\n      </g>\r\n     </g>\r\n    </g>\r\n    <g id=\"xtick_6\">\r\n     <g id=\"line2d_6\">\r\n      <path clip-path=\"url(#pd1287a9f3f)\" d=\"M 365.010253 239.758125 \r\nL 365.010253 22.318125 \r\n\" style=\"fill:none;stroke:#ffffff;stroke-linecap:round;stroke-width:0.8;\"/>\r\n     </g>\r\n     <g id=\"text_6\">\r\n      <!-- 14 -->\r\n      <g style=\"fill:#262626;\" transform=\"translate(358.647753 254.356562)scale(0.1 -0.1)\">\r\n       <defs>\r\n        <path d=\"M 37.796875 64.3125 \r\nL 12.890625 25.390625 \r\nL 37.796875 25.390625 \r\nz\r\nM 35.203125 72.90625 \r\nL 47.609375 72.90625 \r\nL 47.609375 25.390625 \r\nL 58.015625 25.390625 \r\nL 58.015625 17.1875 \r\nL 47.609375 17.1875 \r\nL 47.609375 0 \r\nL 37.796875 0 \r\nL 37.796875 17.1875 \r\nL 4.890625 17.1875 \r\nL 4.890625 26.703125 \r\nz\r\n\" id=\"DejaVuSans-52\"/>\r\n       </defs>\r\n       <use xlink:href=\"#DejaVuSans-49\"/>\r\n       <use x=\"63.623047\" xlink:href=\"#DejaVuSans-52\"/>\r\n      </g>\r\n     </g>\r\n    </g>\r\n    <g id=\"text_7\">\r\n     <!-- Length / cm -->\r\n     <g style=\"fill:#262626;\" transform=\"translate(184.636719 268.034687)scale(0.1 -0.1)\">\r\n      <defs>\r\n       <path d=\"M 9.8125 72.90625 \r\nL 19.671875 72.90625 \r\nL 19.671875 8.296875 \r\nL 55.171875 8.296875 \r\nL 55.171875 0 \r\nL 9.8125 0 \r\nz\r\n\" id=\"DejaVuSans-76\"/>\r\n       <path d=\"M 56.203125 29.59375 \r\nL 56.203125 25.203125 \r\nL 14.890625 25.203125 \r\nQ 15.484375 15.921875 20.484375 11.0625 \r\nQ 25.484375 6.203125 34.421875 6.203125 \r\nQ 39.59375 6.203125 44.453125 7.46875 \r\nQ 49.3125 8.734375 54.109375 11.28125 \r\nL 54.109375 2.78125 \r\nQ 49.265625 0.734375 44.1875 -0.34375 \r\nQ 39.109375 -1.421875 33.890625 -1.421875 \r\nQ 20.796875 -1.421875 13.15625 6.1875 \r\nQ 5.515625 13.8125 5.515625 26.8125 \r\nQ 5.515625 40.234375 12.765625 48.109375 \r\nQ 20.015625 56 32.328125 56 \r\nQ 43.359375 56 49.78125 48.890625 \r\nQ 56.203125 41.796875 56.203125 29.59375 \r\nz\r\nM 47.21875 32.234375 \r\nQ 47.125 39.59375 43.09375 43.984375 \r\nQ 39.0625 48.390625 32.421875 48.390625 \r\nQ 24.90625 48.390625 20.390625 44.140625 \r\nQ 15.875 39.890625 15.1875 32.171875 \r\nz\r\n\" id=\"DejaVuSans-101\"/>\r\n       <path d=\"M 54.890625 33.015625 \r\nL 54.890625 0 \r\nL 45.90625 0 \r\nL 45.90625 32.71875 \r\nQ 45.90625 40.484375 42.875 44.328125 \r\nQ 39.84375 48.1875 33.796875 48.1875 \r\nQ 26.515625 48.1875 22.3125 43.546875 \r\nQ 18.109375 38.921875 18.109375 30.90625 \r\nL 18.109375 0 \r\nL 9.078125 0 \r\nL 9.078125 54.6875 \r\nL 18.109375 54.6875 \r\nL 18.109375 46.1875 \r\nQ 21.34375 51.125 25.703125 53.5625 \r\nQ 30.078125 56 35.796875 56 \r\nQ 45.21875 56 50.046875 50.171875 \r\nQ 54.890625 44.34375 54.890625 33.015625 \r\nz\r\n\" id=\"DejaVuSans-110\"/>\r\n       <path d=\"M 45.40625 27.984375 \r\nQ 45.40625 37.75 41.375 43.109375 \r\nQ 37.359375 48.484375 30.078125 48.484375 \r\nQ 22.859375 48.484375 18.828125 43.109375 \r\nQ 14.796875 37.75 14.796875 27.984375 \r\nQ 14.796875 18.265625 18.828125 12.890625 \r\nQ 22.859375 7.515625 30.078125 7.515625 \r\nQ 37.359375 7.515625 41.375 12.890625 \r\nQ 45.40625 18.265625 45.40625 27.984375 \r\nz\r\nM 54.390625 6.78125 \r\nQ 54.390625 -7.171875 48.1875 -13.984375 \r\nQ 42 -20.796875 29.203125 -20.796875 \r\nQ 24.46875 -20.796875 20.265625 -20.09375 \r\nQ 16.0625 -19.390625 12.109375 -17.921875 \r\nL 12.109375 -9.1875 \r\nQ 16.0625 -11.328125 19.921875 -12.34375 \r\nQ 23.78125 -13.375 27.78125 -13.375 \r\nQ 36.625 -13.375 41.015625 -8.765625 \r\nQ 45.40625 -4.15625 45.40625 5.171875 \r\nL 45.40625 9.625 \r\nQ 42.625 4.78125 38.28125 2.390625 \r\nQ 33.9375 0 27.875 0 \r\nQ 17.828125 0 11.671875 7.65625 \r\nQ 5.515625 15.328125 5.515625 27.984375 \r\nQ 5.515625 40.671875 11.671875 48.328125 \r\nQ 17.828125 56 27.875 56 \r\nQ 33.9375 56 38.28125 53.609375 \r\nQ 42.625 51.21875 45.40625 46.390625 \r\nL 45.40625 54.6875 \r\nL 54.390625 54.6875 \r\nz\r\n\" id=\"DejaVuSans-103\"/>\r\n       <path d=\"M 18.3125 70.21875 \r\nL 18.3125 54.6875 \r\nL 36.8125 54.6875 \r\nL 36.8125 47.703125 \r\nL 18.3125 47.703125 \r\nL 18.3125 18.015625 \r\nQ 18.3125 11.328125 20.140625 9.421875 \r\nQ 21.96875 7.515625 27.59375 7.515625 \r\nL 36.8125 7.515625 \r\nL 36.8125 0 \r\nL 27.59375 0 \r\nQ 17.1875 0 13.234375 3.875 \r\nQ 9.28125 7.765625 9.28125 18.015625 \r\nL 9.28125 47.703125 \r\nL 2.6875 47.703125 \r\nL 2.6875 54.6875 \r\nL 9.28125 54.6875 \r\nL 9.28125 70.21875 \r\nz\r\n\" id=\"DejaVuSans-116\"/>\r\n       <path d=\"M 54.890625 33.015625 \r\nL 54.890625 0 \r\nL 45.90625 0 \r\nL 45.90625 32.71875 \r\nQ 45.90625 40.484375 42.875 44.328125 \r\nQ 39.84375 48.1875 33.796875 48.1875 \r\nQ 26.515625 48.1875 22.3125 43.546875 \r\nQ 18.109375 38.921875 18.109375 30.90625 \r\nL 18.109375 0 \r\nL 9.078125 0 \r\nL 9.078125 75.984375 \r\nL 18.109375 75.984375 \r\nL 18.109375 46.1875 \r\nQ 21.34375 51.125 25.703125 53.5625 \r\nQ 30.078125 56 35.796875 56 \r\nQ 45.21875 56 50.046875 50.171875 \r\nQ 54.890625 44.34375 54.890625 33.015625 \r\nz\r\n\" id=\"DejaVuSans-104\"/>\r\n       <path id=\"DejaVuSans-32\"/>\r\n       <path d=\"M 25.390625 72.90625 \r\nL 33.6875 72.90625 \r\nL 8.296875 -9.28125 \r\nL 0 -9.28125 \r\nz\r\n\" id=\"DejaVuSans-47\"/>\r\n       <path d=\"M 48.78125 52.59375 \r\nL 48.78125 44.1875 \r\nQ 44.96875 46.296875 41.140625 47.34375 \r\nQ 37.3125 48.390625 33.40625 48.390625 \r\nQ 24.65625 48.390625 19.8125 42.84375 \r\nQ 14.984375 37.3125 14.984375 27.296875 \r\nQ 14.984375 17.28125 19.8125 11.734375 \r\nQ 24.65625 6.203125 33.40625 6.203125 \r\nQ 37.3125 6.203125 41.140625 7.25 \r\nQ 44.96875 8.296875 48.78125 10.40625 \r\nL 48.78125 2.09375 \r\nQ 45.015625 0.34375 40.984375 -0.53125 \r\nQ 36.96875 -1.421875 32.421875 -1.421875 \r\nQ 20.0625 -1.421875 12.78125 6.34375 \r\nQ 5.515625 14.109375 5.515625 27.296875 \r\nQ 5.515625 40.671875 12.859375 48.328125 \r\nQ 20.21875 56 33.015625 56 \r\nQ 37.15625 56 41.109375 55.140625 \r\nQ 45.0625 54.296875 48.78125 52.59375 \r\nz\r\n\" id=\"DejaVuSans-99\"/>\r\n       <path d=\"M 52 44.1875 \r\nQ 55.375 50.25 60.0625 53.125 \r\nQ 64.75 56 71.09375 56 \r\nQ 79.640625 56 84.28125 50.015625 \r\nQ 88.921875 44.046875 88.921875 33.015625 \r\nL 88.921875 0 \r\nL 79.890625 0 \r\nL 79.890625 32.71875 \r\nQ 79.890625 40.578125 77.09375 44.375 \r\nQ 74.3125 48.1875 68.609375 48.1875 \r\nQ 61.625 48.1875 57.5625 43.546875 \r\nQ 53.515625 38.921875 53.515625 30.90625 \r\nL 53.515625 0 \r\nL 44.484375 0 \r\nL 44.484375 32.71875 \r\nQ 44.484375 40.625 41.703125 44.40625 \r\nQ 38.921875 48.1875 33.109375 48.1875 \r\nQ 26.21875 48.1875 22.15625 43.53125 \r\nQ 18.109375 38.875 18.109375 30.90625 \r\nL 18.109375 0 \r\nL 9.078125 0 \r\nL 9.078125 54.6875 \r\nL 18.109375 54.6875 \r\nL 18.109375 46.1875 \r\nQ 21.1875 51.21875 25.484375 53.609375 \r\nQ 29.78125 56 35.6875 56 \r\nQ 41.65625 56 45.828125 52.96875 \r\nQ 50 49.953125 52 44.1875 \r\nz\r\n\" id=\"DejaVuSans-109\"/>\r\n      </defs>\r\n      <use xlink:href=\"#DejaVuSans-76\"/>\r\n      <use x=\"53.962891\" xlink:href=\"#DejaVuSans-101\"/>\r\n      <use x=\"115.486328\" xlink:href=\"#DejaVuSans-110\"/>\r\n      <use x=\"178.865234\" xlink:href=\"#DejaVuSans-103\"/>\r\n      <use x=\"242.341797\" xlink:href=\"#DejaVuSans-116\"/>\r\n      <use x=\"281.550781\" xlink:href=\"#DejaVuSans-104\"/>\r\n      <use x=\"344.929688\" xlink:href=\"#DejaVuSans-32\"/>\r\n      <use x=\"376.716797\" xlink:href=\"#DejaVuSans-47\"/>\r\n      <use x=\"410.408203\" xlink:href=\"#DejaVuSans-32\"/>\r\n      <use x=\"442.195312\" xlink:href=\"#DejaVuSans-99\"/>\r\n      <use x=\"497.175781\" xlink:href=\"#DejaVuSans-109\"/>\r\n     </g>\r\n    </g>\r\n   </g>\r\n   <g id=\"matplotlib.axis_2\">\r\n    <g id=\"ytick_1\">\r\n     <g id=\"line2d_7\">\r\n      <path clip-path=\"url(#pd1287a9f3f)\" d=\"M 46.965625 232.321378 \r\nL 381.765625 232.321378 \r\n\" style=\"fill:none;stroke:#ffffff;stroke-linecap:round;stroke-width:0.8;\"/>\r\n     </g>\r\n     <g id=\"text_8\">\r\n      <!-- 40 -->\r\n      <g style=\"fill:#262626;\" transform=\"translate(27.240625 236.120596)scale(0.1 -0.1)\">\r\n       <use xlink:href=\"#DejaVuSans-52\"/>\r\n       <use x=\"63.623047\" xlink:href=\"#DejaVuSans-48\"/>\r\n      </g>\r\n     </g>\r\n    </g>\r\n    <g id=\"ytick_2\">\r\n     <g id=\"line2d_8\">\r\n      <path clip-path=\"url(#pd1287a9f3f)\" d=\"M 46.965625 207.490579 \r\nL 381.765625 207.490579 \r\n\" style=\"fill:none;stroke:#ffffff;stroke-linecap:round;stroke-width:0.8;\"/>\r\n     </g>\r\n     <g id=\"text_9\">\r\n      <!-- 60 -->\r\n      <g style=\"fill:#262626;\" transform=\"translate(27.240625 211.289797)scale(0.1 -0.1)\">\r\n       <defs>\r\n        <path d=\"M 33.015625 40.375 \r\nQ 26.375 40.375 22.484375 35.828125 \r\nQ 18.609375 31.296875 18.609375 23.390625 \r\nQ 18.609375 15.53125 22.484375 10.953125 \r\nQ 26.375 6.390625 33.015625 6.390625 \r\nQ 39.65625 6.390625 43.53125 10.953125 \r\nQ 47.40625 15.53125 47.40625 23.390625 \r\nQ 47.40625 31.296875 43.53125 35.828125 \r\nQ 39.65625 40.375 33.015625 40.375 \r\nz\r\nM 52.59375 71.296875 \r\nL 52.59375 62.3125 \r\nQ 48.875 64.0625 45.09375 64.984375 \r\nQ 41.3125 65.921875 37.59375 65.921875 \r\nQ 27.828125 65.921875 22.671875 59.328125 \r\nQ 17.53125 52.734375 16.796875 39.40625 \r\nQ 19.671875 43.65625 24.015625 45.921875 \r\nQ 28.375 48.1875 33.59375 48.1875 \r\nQ 44.578125 48.1875 50.953125 41.515625 \r\nQ 57.328125 34.859375 57.328125 23.390625 \r\nQ 57.328125 12.15625 50.6875 5.359375 \r\nQ 44.046875 -1.421875 33.015625 -1.421875 \r\nQ 20.359375 -1.421875 13.671875 8.265625 \r\nQ 6.984375 17.96875 6.984375 36.375 \r\nQ 6.984375 53.65625 15.1875 63.9375 \r\nQ 23.390625 74.21875 37.203125 74.21875 \r\nQ 40.921875 74.21875 44.703125 73.484375 \r\nQ 48.484375 72.75 52.59375 71.296875 \r\nz\r\n\" id=\"DejaVuSans-54\"/>\r\n       </defs>\r\n       <use xlink:href=\"#DejaVuSans-54\"/>\r\n       <use x=\"63.623047\" xlink:href=\"#DejaVuSans-48\"/>\r\n      </g>\r\n     </g>\r\n    </g>\r\n    <g id=\"ytick_3\">\r\n     <g id=\"line2d_9\">\r\n      <path clip-path=\"url(#pd1287a9f3f)\" d=\"M 46.965625 182.65978 \r\nL 381.765625 182.65978 \r\n\" style=\"fill:none;stroke:#ffffff;stroke-linecap:round;stroke-width:0.8;\"/>\r\n     </g>\r\n     <g id=\"text_10\">\r\n      <!-- 80 -->\r\n      <g style=\"fill:#262626;\" transform=\"translate(27.240625 186.458998)scale(0.1 -0.1)\">\r\n       <defs>\r\n        <path d=\"M 31.78125 34.625 \r\nQ 24.75 34.625 20.71875 30.859375 \r\nQ 16.703125 27.09375 16.703125 20.515625 \r\nQ 16.703125 13.921875 20.71875 10.15625 \r\nQ 24.75 6.390625 31.78125 6.390625 \r\nQ 38.8125 6.390625 42.859375 10.171875 \r\nQ 46.921875 13.96875 46.921875 20.515625 \r\nQ 46.921875 27.09375 42.890625 30.859375 \r\nQ 38.875 34.625 31.78125 34.625 \r\nz\r\nM 21.921875 38.8125 \r\nQ 15.578125 40.375 12.03125 44.71875 \r\nQ 8.5 49.078125 8.5 55.328125 \r\nQ 8.5 64.0625 14.71875 69.140625 \r\nQ 20.953125 74.21875 31.78125 74.21875 \r\nQ 42.671875 74.21875 48.875 69.140625 \r\nQ 55.078125 64.0625 55.078125 55.328125 \r\nQ 55.078125 49.078125 51.53125 44.71875 \r\nQ 48 40.375 41.703125 38.8125 \r\nQ 48.828125 37.15625 52.796875 32.3125 \r\nQ 56.78125 27.484375 56.78125 20.515625 \r\nQ 56.78125 9.90625 50.3125 4.234375 \r\nQ 43.84375 -1.421875 31.78125 -1.421875 \r\nQ 19.734375 -1.421875 13.25 4.234375 \r\nQ 6.78125 9.90625 6.78125 20.515625 \r\nQ 6.78125 27.484375 10.78125 32.3125 \r\nQ 14.796875 37.15625 21.921875 38.8125 \r\nz\r\nM 18.3125 54.390625 \r\nQ 18.3125 48.734375 21.84375 45.5625 \r\nQ 25.390625 42.390625 31.78125 42.390625 \r\nQ 38.140625 42.390625 41.71875 45.5625 \r\nQ 45.3125 48.734375 45.3125 54.390625 \r\nQ 45.3125 60.0625 41.71875 63.234375 \r\nQ 38.140625 66.40625 31.78125 66.40625 \r\nQ 25.390625 66.40625 21.84375 63.234375 \r\nQ 18.3125 60.0625 18.3125 54.390625 \r\nz\r\n\" id=\"DejaVuSans-56\"/>\r\n       </defs>\r\n       <use xlink:href=\"#DejaVuSans-56\"/>\r\n       <use x=\"63.623047\" xlink:href=\"#DejaVuSans-48\"/>\r\n      </g>\r\n     </g>\r\n    </g>\r\n    <g id=\"ytick_4\">\r\n     <g id=\"line2d_10\">\r\n      <path clip-path=\"url(#pd1287a9f3f)\" d=\"M 46.965625 157.82898 \r\nL 381.765625 157.82898 \r\n\" style=\"fill:none;stroke:#ffffff;stroke-linecap:round;stroke-width:0.8;\"/>\r\n     </g>\r\n     <g id=\"text_11\">\r\n      <!-- 100 -->\r\n      <g style=\"fill:#262626;\" transform=\"translate(20.878125 161.628199)scale(0.1 -0.1)\">\r\n       <use xlink:href=\"#DejaVuSans-49\"/>\r\n       <use x=\"63.623047\" xlink:href=\"#DejaVuSans-48\"/>\r\n       <use x=\"127.246094\" xlink:href=\"#DejaVuSans-48\"/>\r\n      </g>\r\n     </g>\r\n    </g>\r\n    <g id=\"ytick_5\">\r\n     <g id=\"line2d_11\">\r\n      <path clip-path=\"url(#pd1287a9f3f)\" d=\"M 46.965625 132.998181 \r\nL 381.765625 132.998181 \r\n\" style=\"fill:none;stroke:#ffffff;stroke-linecap:round;stroke-width:0.8;\"/>\r\n     </g>\r\n     <g id=\"text_12\">\r\n      <!-- 120 -->\r\n      <g style=\"fill:#262626;\" transform=\"translate(20.878125 136.7974)scale(0.1 -0.1)\">\r\n       <use xlink:href=\"#DejaVuSans-49\"/>\r\n       <use x=\"63.623047\" xlink:href=\"#DejaVuSans-50\"/>\r\n       <use x=\"127.246094\" xlink:href=\"#DejaVuSans-48\"/>\r\n      </g>\r\n     </g>\r\n    </g>\r\n    <g id=\"ytick_6\">\r\n     <g id=\"line2d_12\">\r\n      <path clip-path=\"url(#pd1287a9f3f)\" d=\"M 46.965625 108.167382 \r\nL 381.765625 108.167382 \r\n\" style=\"fill:none;stroke:#ffffff;stroke-linecap:round;stroke-width:0.8;\"/>\r\n     </g>\r\n     <g id=\"text_13\">\r\n      <!-- 140 -->\r\n      <g style=\"fill:#262626;\" transform=\"translate(20.878125 111.966601)scale(0.1 -0.1)\">\r\n       <use xlink:href=\"#DejaVuSans-49\"/>\r\n       <use x=\"63.623047\" xlink:href=\"#DejaVuSans-52\"/>\r\n       <use x=\"127.246094\" xlink:href=\"#DejaVuSans-48\"/>\r\n      </g>\r\n     </g>\r\n    </g>\r\n    <g id=\"ytick_7\">\r\n     <g id=\"line2d_13\">\r\n      <path clip-path=\"url(#pd1287a9f3f)\" d=\"M 46.965625 83.336583 \r\nL 381.765625 83.336583 \r\n\" style=\"fill:none;stroke:#ffffff;stroke-linecap:round;stroke-width:0.8;\"/>\r\n     </g>\r\n     <g id=\"text_14\">\r\n      <!-- 160 -->\r\n      <g style=\"fill:#262626;\" transform=\"translate(20.878125 87.135802)scale(0.1 -0.1)\">\r\n       <use xlink:href=\"#DejaVuSans-49\"/>\r\n       <use x=\"63.623047\" xlink:href=\"#DejaVuSans-54\"/>\r\n       <use x=\"127.246094\" xlink:href=\"#DejaVuSans-48\"/>\r\n      </g>\r\n     </g>\r\n    </g>\r\n    <g id=\"ytick_8\">\r\n     <g id=\"line2d_14\">\r\n      <path clip-path=\"url(#pd1287a9f3f)\" d=\"M 46.965625 58.505784 \r\nL 381.765625 58.505784 \r\n\" style=\"fill:none;stroke:#ffffff;stroke-linecap:round;stroke-width:0.8;\"/>\r\n     </g>\r\n     <g id=\"text_15\">\r\n      <!-- 180 -->\r\n      <g style=\"fill:#262626;\" transform=\"translate(20.878125 62.305003)scale(0.1 -0.1)\">\r\n       <use xlink:href=\"#DejaVuSans-49\"/>\r\n       <use x=\"63.623047\" xlink:href=\"#DejaVuSans-56\"/>\r\n       <use x=\"127.246094\" xlink:href=\"#DejaVuSans-48\"/>\r\n      </g>\r\n     </g>\r\n    </g>\r\n    <g id=\"ytick_9\">\r\n     <g id=\"line2d_15\">\r\n      <path clip-path=\"url(#pd1287a9f3f)\" d=\"M 46.965625 33.674985 \r\nL 381.765625 33.674985 \r\n\" style=\"fill:none;stroke:#ffffff;stroke-linecap:round;stroke-width:0.8;\"/>\r\n     </g>\r\n     <g id=\"text_16\">\r\n      <!-- 200 -->\r\n      <g style=\"fill:#262626;\" transform=\"translate(20.878125 37.474204)scale(0.1 -0.1)\">\r\n       <use xlink:href=\"#DejaVuSans-50\"/>\r\n       <use x=\"63.623047\" xlink:href=\"#DejaVuSans-48\"/>\r\n       <use x=\"127.246094\" xlink:href=\"#DejaVuSans-48\"/>\r\n      </g>\r\n     </g>\r\n    </g>\r\n    <g id=\"text_17\">\r\n     <!-- Weight / 0.1g -->\r\n     <g style=\"fill:#262626;\" transform=\"translate(14.798438 164.445156)rotate(-90)scale(0.1 -0.1)\">\r\n      <defs>\r\n       <path d=\"M 3.328125 72.90625 \r\nL 13.28125 72.90625 \r\nL 28.609375 11.28125 \r\nL 43.890625 72.90625 \r\nL 54.984375 72.90625 \r\nL 70.3125 11.28125 \r\nL 85.59375 72.90625 \r\nL 95.609375 72.90625 \r\nL 77.296875 0 \r\nL 64.890625 0 \r\nL 49.515625 63.28125 \r\nL 33.984375 0 \r\nL 21.578125 0 \r\nz\r\n\" id=\"DejaVuSans-87\"/>\r\n       <path d=\"M 9.421875 54.6875 \r\nL 18.40625 54.6875 \r\nL 18.40625 0 \r\nL 9.421875 0 \r\nz\r\nM 9.421875 75.984375 \r\nL 18.40625 75.984375 \r\nL 18.40625 64.59375 \r\nL 9.421875 64.59375 \r\nz\r\n\" id=\"DejaVuSans-105\"/>\r\n       <path d=\"M 10.6875 12.40625 \r\nL 21 12.40625 \r\nL 21 0 \r\nL 10.6875 0 \r\nz\r\n\" id=\"DejaVuSans-46\"/>\r\n      </defs>\r\n      <use xlink:href=\"#DejaVuSans-87\"/>\r\n      <use x=\"93.001953\" xlink:href=\"#DejaVuSans-101\"/>\r\n      <use x=\"154.525391\" xlink:href=\"#DejaVuSans-105\"/>\r\n      <use x=\"182.308594\" xlink:href=\"#DejaVuSans-103\"/>\r\n      <use x=\"245.785156\" xlink:href=\"#DejaVuSans-104\"/>\r\n      <use x=\"309.164062\" xlink:href=\"#DejaVuSans-116\"/>\r\n      <use x=\"348.373047\" xlink:href=\"#DejaVuSans-32\"/>\r\n      <use x=\"380.160156\" xlink:href=\"#DejaVuSans-47\"/>\r\n      <use x=\"413.851562\" xlink:href=\"#DejaVuSans-32\"/>\r\n      <use x=\"445.638672\" xlink:href=\"#DejaVuSans-48\"/>\r\n      <use x=\"509.261719\" xlink:href=\"#DejaVuSans-46\"/>\r\n      <use x=\"541.048828\" xlink:href=\"#DejaVuSans-49\"/>\r\n      <use x=\"604.671875\" xlink:href=\"#DejaVuSans-103\"/>\r\n     </g>\r\n    </g>\r\n   </g>\r\n   <g id=\"PathCollection_1\">\r\n    <defs>\r\n     <path d=\"M 0 3 \r\nC 0.795609 3 1.55874 2.683901 2.12132 2.12132 \r\nC 2.683901 1.55874 3 0.795609 3 0 \r\nC 3 -0.795609 2.683901 -1.55874 2.12132 -2.12132 \r\nC 1.55874 -2.683901 0.795609 -3 0 -3 \r\nC -0.795609 -3 -1.55874 -2.683901 -2.12132 -2.12132 \r\nC -2.683901 -1.55874 -3 -0.795609 -3 0 \r\nC -3 0.795609 -2.683901 1.55874 -2.12132 2.12132 \r\nC -1.55874 2.683901 -0.795609 3 0 3 \r\nz\r\n\" id=\"m9dd6811879\" style=\"stroke:#ffffff;stroke-width:0.48;\"/>\r\n    </defs>\r\n    <g clip-path=\"url(#pd1287a9f3f)\">\r\n     <use style=\"fill:#4776ee;stroke:#ffffff;stroke-width:0.48;\" x=\"76.018518\" xlink:href=\"#m9dd6811879\" y=\"198.799799\"/>\r\n     <use style=\"fill:#4776ee;stroke:#ffffff;stroke-width:0.48;\" x=\"119.05984\" xlink:href=\"#m9dd6811879\" y=\"188.867479\"/>\r\n     <use style=\"fill:#4776ee;stroke:#ffffff;stroke-width:0.48;\" x=\"125.2086\" xlink:href=\"#m9dd6811879\" y=\"195.075179\"/>\r\n     <use style=\"fill:#4776ee;stroke:#ffffff;stroke-width:0.48;\" x=\"125.2086\" xlink:href=\"#m9dd6811879\" y=\"192.592099\"/>\r\n     <use style=\"fill:#4776ee;stroke:#ffffff;stroke-width:0.48;\" x=\"131.357361\" xlink:href=\"#m9dd6811879\" y=\"183.901319\"/>\r\n     <use style=\"fill:#4776ee;stroke:#ffffff;stroke-width:0.48;\" x=\"137.506121\" xlink:href=\"#m9dd6811879\" y=\"176.45208\"/>\r\n     <use style=\"fill:#4776ee;stroke:#ffffff;stroke-width:0.48;\" x=\"143.654881\" xlink:href=\"#m9dd6811879\" y=\"161.5536\"/>\r\n     <use style=\"fill:#4776ee;stroke:#ffffff;stroke-width:0.48;\" x=\"162.101162\" xlink:href=\"#m9dd6811879\" y=\"160.31206\"/>\r\n     <use style=\"fill:#4776ee;stroke:#ffffff;stroke-width:0.48;\" x=\"168.249923\" xlink:href=\"#m9dd6811879\" y=\"173.969\"/>\r\n     <use style=\"fill:#4776ee;stroke:#ffffff;stroke-width:0.48;\" x=\"186.696204\" xlink:href=\"#m9dd6811879\" y=\"156.58744\"/>\r\n     <use style=\"fill:#4776ee;stroke:#ffffff;stroke-width:0.48;\" x=\"192.844964\" xlink:href=\"#m9dd6811879\" y=\"162.79514\"/>\r\n     <use style=\"fill:#4776ee;stroke:#ffffff;stroke-width:0.48;\" x=\"198.993724\" xlink:href=\"#m9dd6811879\" y=\"157.82898\"/>\r\n     <use style=\"fill:#4776ee;stroke:#ffffff;stroke-width:0.48;\" x=\"198.993724\" xlink:href=\"#m9dd6811879\" y=\"159.07052\"/>\r\n     <use style=\"fill:#4776ee;stroke:#ffffff;stroke-width:0.48;\" x=\"205.142485\" xlink:href=\"#m9dd6811879\" y=\"160.31206\"/>\r\n     <use style=\"fill:#4776ee;stroke:#ffffff;stroke-width:0.48;\" x=\"211.291245\" xlink:href=\"#m9dd6811879\" y=\"130.515101\"/>\r\n     <use style=\"fill:#4776ee;stroke:#ffffff;stroke-width:0.48;\" x=\"223.588765\" xlink:href=\"#m9dd6811879\" y=\"115.616622\"/>\r\n     <use style=\"fill:#4776ee;stroke:#ffffff;stroke-width:0.48;\" x=\"248.183807\" xlink:href=\"#m9dd6811879\" y=\"130.515101\"/>\r\n     <use style=\"fill:#4776ee;stroke:#ffffff;stroke-width:0.48;\" x=\"254.332567\" xlink:href=\"#m9dd6811879\" y=\"113.133542\"/>\r\n     <use style=\"fill:#4776ee;stroke:#ffffff;stroke-width:0.48;\" x=\"266.630088\" xlink:href=\"#m9dd6811879\" y=\"118.099702\"/>\r\n     <use style=\"fill:#4776ee;stroke:#ffffff;stroke-width:0.48;\" x=\"272.778848\" xlink:href=\"#m9dd6811879\" y=\"89.544283\"/>\r\n     <use style=\"fill:#4776ee;stroke:#ffffff;stroke-width:0.48;\" x=\"285.076369\" xlink:href=\"#m9dd6811879\" y=\"70.921184\"/>\r\n     <use style=\"fill:#4776ee;stroke:#ffffff;stroke-width:0.48;\" x=\"297.373889\" xlink:href=\"#m9dd6811879\" y=\"65.955024\"/>\r\n     <use style=\"fill:#4776ee;stroke:#ffffff;stroke-width:0.48;\" x=\"303.52265\" xlink:href=\"#m9dd6811879\" y=\"47.331925\"/>\r\n     <use style=\"fill:#4776ee;stroke:#ffffff;stroke-width:0.48;\" x=\"315.82017\" xlink:href=\"#m9dd6811879\" y=\"37.399605\"/>\r\n     <use style=\"fill:#4776ee;stroke:#ffffff;stroke-width:0.48;\" x=\"352.712732\" xlink:href=\"#m9dd6811879\" y=\"34.916525\"/>\r\n    </g>\r\n   </g>\r\n   <g id=\"line2d_16\">\r\n    <path clip-path=\"url(#pd1287a9f3f)\" d=\"M 62.183807 163.054533 \r\nL 366.547443 98.184473 \r\n\" style=\"fill:none;stroke:#2ca02c;stroke-linecap:round;stroke-width:1.5;\"/>\r\n   </g>\r\n   <g id=\"line2d_17\">\r\n    <path clip-path=\"url(#pd1287a9f3f)\" d=\"M 62.183807 229.874489 \r\nL 366.547443 32.201761 \r\n\" style=\"fill:none;stroke:#ff7f0e;stroke-linecap:round;stroke-width:1.5;\"/>\r\n   </g>\r\n   <g id=\"patch_3\">\r\n    <path d=\"M 46.965625 239.758125 \r\nL 46.965625 22.318125 \r\n\" style=\"fill:none;stroke:#ffffff;stroke-linecap:square;stroke-linejoin:miter;stroke-width:0.8;\"/>\r\n   </g>\r\n   <g id=\"patch_4\">\r\n    <path d=\"M 381.765625 239.758125 \r\nL 381.765625 22.318125 \r\n\" style=\"fill:none;stroke:#ffffff;stroke-linecap:square;stroke-linejoin:miter;stroke-width:0.8;\"/>\r\n   </g>\r\n   <g id=\"patch_5\">\r\n    <path d=\"M 46.965625 239.758125 \r\nL 381.765625 239.758125 \r\n\" style=\"fill:none;stroke:#ffffff;stroke-linecap:square;stroke-linejoin:miter;stroke-width:0.8;\"/>\r\n   </g>\r\n   <g id=\"patch_6\">\r\n    <path d=\"M 46.965625 22.318125 \r\nL 381.765625 22.318125 \r\n\" style=\"fill:none;stroke:#ffffff;stroke-linecap:square;stroke-linejoin:miter;stroke-width:0.8;\"/>\r\n   </g>\r\n   <g id=\"text_18\">\r\n    <!-- Scatterplot of Weight against Length -->\r\n    <g style=\"fill:#262626;\" transform=\"translate(104.09875 16.318125)scale(0.12 -0.12)\">\r\n     <defs>\r\n      <path d=\"M 53.515625 70.515625 \r\nL 53.515625 60.890625 \r\nQ 47.90625 63.578125 42.921875 64.890625 \r\nQ 37.9375 66.21875 33.296875 66.21875 \r\nQ 25.25 66.21875 20.875 63.09375 \r\nQ 16.5 59.96875 16.5 54.203125 \r\nQ 16.5 49.359375 19.40625 46.890625 \r\nQ 22.3125 44.4375 30.421875 42.921875 \r\nL 36.375 41.703125 \r\nQ 47.40625 39.59375 52.65625 34.296875 \r\nQ 57.90625 29 57.90625 20.125 \r\nQ 57.90625 9.515625 50.796875 4.046875 \r\nQ 43.703125 -1.421875 29.984375 -1.421875 \r\nQ 24.8125 -1.421875 18.96875 -0.25 \r\nQ 13.140625 0.921875 6.890625 3.21875 \r\nL 6.890625 13.375 \r\nQ 12.890625 10.015625 18.65625 8.296875 \r\nQ 24.421875 6.59375 29.984375 6.59375 \r\nQ 38.421875 6.59375 43.015625 9.90625 \r\nQ 47.609375 13.234375 47.609375 19.390625 \r\nQ 47.609375 24.75 44.3125 27.78125 \r\nQ 41.015625 30.8125 33.5 32.328125 \r\nL 27.484375 33.5 \r\nQ 16.453125 35.6875 11.515625 40.375 \r\nQ 6.59375 45.0625 6.59375 53.421875 \r\nQ 6.59375 63.09375 13.40625 68.65625 \r\nQ 20.21875 74.21875 32.171875 74.21875 \r\nQ 37.3125 74.21875 42.625 73.28125 \r\nQ 47.953125 72.359375 53.515625 70.515625 \r\nz\r\n\" id=\"DejaVuSans-83\"/>\r\n      <path d=\"M 34.28125 27.484375 \r\nQ 23.390625 27.484375 19.1875 25 \r\nQ 14.984375 22.515625 14.984375 16.5 \r\nQ 14.984375 11.71875 18.140625 8.90625 \r\nQ 21.296875 6.109375 26.703125 6.109375 \r\nQ 34.1875 6.109375 38.703125 11.40625 \r\nQ 43.21875 16.703125 43.21875 25.484375 \r\nL 43.21875 27.484375 \r\nz\r\nM 52.203125 31.203125 \r\nL 52.203125 0 \r\nL 43.21875 0 \r\nL 43.21875 8.296875 \r\nQ 40.140625 3.328125 35.546875 0.953125 \r\nQ 30.953125 -1.421875 24.3125 -1.421875 \r\nQ 15.921875 -1.421875 10.953125 3.296875 \r\nQ 6 8.015625 6 15.921875 \r\nQ 6 25.140625 12.171875 29.828125 \r\nQ 18.359375 34.515625 30.609375 34.515625 \r\nL 43.21875 34.515625 \r\nL 43.21875 35.40625 \r\nQ 43.21875 41.609375 39.140625 45 \r\nQ 35.0625 48.390625 27.6875 48.390625 \r\nQ 23 48.390625 18.546875 47.265625 \r\nQ 14.109375 46.140625 10.015625 43.890625 \r\nL 10.015625 52.203125 \r\nQ 14.9375 54.109375 19.578125 55.046875 \r\nQ 24.21875 56 28.609375 56 \r\nQ 40.484375 56 46.34375 49.84375 \r\nQ 52.203125 43.703125 52.203125 31.203125 \r\nz\r\n\" id=\"DejaVuSans-97\"/>\r\n      <path d=\"M 41.109375 46.296875 \r\nQ 39.59375 47.171875 37.8125 47.578125 \r\nQ 36.03125 48 33.890625 48 \r\nQ 26.265625 48 22.1875 43.046875 \r\nQ 18.109375 38.09375 18.109375 28.8125 \r\nL 18.109375 0 \r\nL 9.078125 0 \r\nL 9.078125 54.6875 \r\nL 18.109375 54.6875 \r\nL 18.109375 46.1875 \r\nQ 20.953125 51.171875 25.484375 53.578125 \r\nQ 30.03125 56 36.53125 56 \r\nQ 37.453125 56 38.578125 55.875 \r\nQ 39.703125 55.765625 41.0625 55.515625 \r\nz\r\n\" id=\"DejaVuSans-114\"/>\r\n      <path d=\"M 18.109375 8.203125 \r\nL 18.109375 -20.796875 \r\nL 9.078125 -20.796875 \r\nL 9.078125 54.6875 \r\nL 18.109375 54.6875 \r\nL 18.109375 46.390625 \r\nQ 20.953125 51.265625 25.265625 53.625 \r\nQ 29.59375 56 35.59375 56 \r\nQ 45.5625 56 51.78125 48.09375 \r\nQ 58.015625 40.1875 58.015625 27.296875 \r\nQ 58.015625 14.40625 51.78125 6.484375 \r\nQ 45.5625 -1.421875 35.59375 -1.421875 \r\nQ 29.59375 -1.421875 25.265625 0.953125 \r\nQ 20.953125 3.328125 18.109375 8.203125 \r\nz\r\nM 48.6875 27.296875 \r\nQ 48.6875 37.203125 44.609375 42.84375 \r\nQ 40.53125 48.484375 33.40625 48.484375 \r\nQ 26.265625 48.484375 22.1875 42.84375 \r\nQ 18.109375 37.203125 18.109375 27.296875 \r\nQ 18.109375 17.390625 22.1875 11.75 \r\nQ 26.265625 6.109375 33.40625 6.109375 \r\nQ 40.53125 6.109375 44.609375 11.75 \r\nQ 48.6875 17.390625 48.6875 27.296875 \r\nz\r\n\" id=\"DejaVuSans-112\"/>\r\n      <path d=\"M 9.421875 75.984375 \r\nL 18.40625 75.984375 \r\nL 18.40625 0 \r\nL 9.421875 0 \r\nz\r\n\" id=\"DejaVuSans-108\"/>\r\n      <path d=\"M 30.609375 48.390625 \r\nQ 23.390625 48.390625 19.1875 42.75 \r\nQ 14.984375 37.109375 14.984375 27.296875 \r\nQ 14.984375 17.484375 19.15625 11.84375 \r\nQ 23.34375 6.203125 30.609375 6.203125 \r\nQ 37.796875 6.203125 41.984375 11.859375 \r\nQ 46.1875 17.53125 46.1875 27.296875 \r\nQ 46.1875 37.015625 41.984375 42.703125 \r\nQ 37.796875 48.390625 30.609375 48.390625 \r\nz\r\nM 30.609375 56 \r\nQ 42.328125 56 49.015625 48.375 \r\nQ 55.71875 40.765625 55.71875 27.296875 \r\nQ 55.71875 13.875 49.015625 6.21875 \r\nQ 42.328125 -1.421875 30.609375 -1.421875 \r\nQ 18.84375 -1.421875 12.171875 6.21875 \r\nQ 5.515625 13.875 5.515625 27.296875 \r\nQ 5.515625 40.765625 12.171875 48.375 \r\nQ 18.84375 56 30.609375 56 \r\nz\r\n\" id=\"DejaVuSans-111\"/>\r\n      <path d=\"M 37.109375 75.984375 \r\nL 37.109375 68.5 \r\nL 28.515625 68.5 \r\nQ 23.6875 68.5 21.796875 66.546875 \r\nQ 19.921875 64.59375 19.921875 59.515625 \r\nL 19.921875 54.6875 \r\nL 34.71875 54.6875 \r\nL 34.71875 47.703125 \r\nL 19.921875 47.703125 \r\nL 19.921875 0 \r\nL 10.890625 0 \r\nL 10.890625 47.703125 \r\nL 2.296875 47.703125 \r\nL 2.296875 54.6875 \r\nL 10.890625 54.6875 \r\nL 10.890625 58.5 \r\nQ 10.890625 67.625 15.140625 71.796875 \r\nQ 19.390625 75.984375 28.609375 75.984375 \r\nz\r\n\" id=\"DejaVuSans-102\"/>\r\n      <path d=\"M 44.28125 53.078125 \r\nL 44.28125 44.578125 \r\nQ 40.484375 46.53125 36.375 47.5 \r\nQ 32.28125 48.484375 27.875 48.484375 \r\nQ 21.1875 48.484375 17.84375 46.4375 \r\nQ 14.5 44.390625 14.5 40.28125 \r\nQ 14.5 37.15625 16.890625 35.375 \r\nQ 19.28125 33.59375 26.515625 31.984375 \r\nL 29.59375 31.296875 \r\nQ 39.15625 29.25 43.1875 25.515625 \r\nQ 47.21875 21.78125 47.21875 15.09375 \r\nQ 47.21875 7.46875 41.1875 3.015625 \r\nQ 35.15625 -1.421875 24.609375 -1.421875 \r\nQ 20.21875 -1.421875 15.453125 -0.5625 \r\nQ 10.6875 0.296875 5.421875 2 \r\nL 5.421875 11.28125 \r\nQ 10.40625 8.6875 15.234375 7.390625 \r\nQ 20.0625 6.109375 24.8125 6.109375 \r\nQ 31.15625 6.109375 34.5625 8.28125 \r\nQ 37.984375 10.453125 37.984375 14.40625 \r\nQ 37.984375 18.0625 35.515625 20.015625 \r\nQ 33.0625 21.96875 24.703125 23.78125 \r\nL 21.578125 24.515625 \r\nQ 13.234375 26.265625 9.515625 29.90625 \r\nQ 5.8125 33.546875 5.8125 39.890625 \r\nQ 5.8125 47.609375 11.28125 51.796875 \r\nQ 16.75 56 26.8125 56 \r\nQ 31.78125 56 36.171875 55.265625 \r\nQ 40.578125 54.546875 44.28125 53.078125 \r\nz\r\n\" id=\"DejaVuSans-115\"/>\r\n     </defs>\r\n     <use xlink:href=\"#DejaVuSans-83\"/>\r\n     <use x=\"63.476562\" xlink:href=\"#DejaVuSans-99\"/>\r\n     <use x=\"118.457031\" xlink:href=\"#DejaVuSans-97\"/>\r\n     <use x=\"179.736328\" xlink:href=\"#DejaVuSans-116\"/>\r\n     <use x=\"218.945312\" xlink:href=\"#DejaVuSans-116\"/>\r\n     <use x=\"258.154297\" xlink:href=\"#DejaVuSans-101\"/>\r\n     <use x=\"319.677734\" xlink:href=\"#DejaVuSans-114\"/>\r\n     <use x=\"360.791016\" xlink:href=\"#DejaVuSans-112\"/>\r\n     <use x=\"424.267578\" xlink:href=\"#DejaVuSans-108\"/>\r\n     <use x=\"452.050781\" xlink:href=\"#DejaVuSans-111\"/>\r\n     <use x=\"513.232422\" xlink:href=\"#DejaVuSans-116\"/>\r\n     <use x=\"552.441406\" xlink:href=\"#DejaVuSans-32\"/>\r\n     <use x=\"584.228516\" xlink:href=\"#DejaVuSans-111\"/>\r\n     <use x=\"645.410156\" xlink:href=\"#DejaVuSans-102\"/>\r\n     <use x=\"680.615234\" xlink:href=\"#DejaVuSans-32\"/>\r\n     <use x=\"712.402344\" xlink:href=\"#DejaVuSans-87\"/>\r\n     <use x=\"805.404297\" xlink:href=\"#DejaVuSans-101\"/>\r\n     <use x=\"866.927734\" xlink:href=\"#DejaVuSans-105\"/>\r\n     <use x=\"894.710938\" xlink:href=\"#DejaVuSans-103\"/>\r\n     <use x=\"958.1875\" xlink:href=\"#DejaVuSans-104\"/>\r\n     <use x=\"1021.566406\" xlink:href=\"#DejaVuSans-116\"/>\r\n     <use x=\"1060.775391\" xlink:href=\"#DejaVuSans-32\"/>\r\n     <use x=\"1092.5625\" xlink:href=\"#DejaVuSans-97\"/>\r\n     <use x=\"1153.841797\" xlink:href=\"#DejaVuSans-103\"/>\r\n     <use x=\"1217.318359\" xlink:href=\"#DejaVuSans-97\"/>\r\n     <use x=\"1278.597656\" xlink:href=\"#DejaVuSans-105\"/>\r\n     <use x=\"1306.380859\" xlink:href=\"#DejaVuSans-110\"/>\r\n     <use x=\"1369.759766\" xlink:href=\"#DejaVuSans-115\"/>\r\n     <use x=\"1421.859375\" xlink:href=\"#DejaVuSans-116\"/>\r\n     <use x=\"1461.068359\" xlink:href=\"#DejaVuSans-32\"/>\r\n     <use x=\"1492.855469\" xlink:href=\"#DejaVuSans-76\"/>\r\n     <use x=\"1546.818359\" xlink:href=\"#DejaVuSans-101\"/>\r\n     <use x=\"1608.341797\" xlink:href=\"#DejaVuSans-110\"/>\r\n     <use x=\"1671.720703\" xlink:href=\"#DejaVuSans-103\"/>\r\n     <use x=\"1735.197266\" xlink:href=\"#DejaVuSans-116\"/>\r\n     <use x=\"1774.40625\" xlink:href=\"#DejaVuSans-104\"/>\r\n    </g>\r\n   </g>\r\n   <g id=\"legend_1\">\r\n    <g id=\"patch_7\">\r\n     <path d=\"M 53.965625 74.3525 \r\nL 178.384375 74.3525 \r\nQ 180.384375 74.3525 180.384375 72.3525 \r\nL 180.384375 29.318125 \r\nQ 180.384375 27.318125 178.384375 27.318125 \r\nL 53.965625 27.318125 \r\nQ 51.965625 27.318125 51.965625 29.318125 \r\nL 51.965625 72.3525 \r\nQ 51.965625 74.3525 53.965625 74.3525 \r\nz\r\n\" style=\"fill:#eaeaf2;opacity:0.8;stroke:#cccccc;stroke-linejoin:miter;\"/>\r\n    </g>\r\n    <g id=\"line2d_18\">\r\n     <path d=\"M 55.965625 35.416562 \r\nL 75.965625 35.416562 \r\n\" style=\"fill:none;stroke:#2ca02c;stroke-linecap:round;stroke-width:1.5;\"/>\r\n    </g>\r\n    <g id=\"line2d_19\"/>\r\n    <g id=\"text_19\">\r\n     <!-- Model 1 Prediction -->\r\n     <g style=\"fill:#262626;\" transform=\"translate(83.965625 38.916562)scale(0.1 -0.1)\">\r\n      <defs>\r\n       <path d=\"M 9.8125 72.90625 \r\nL 24.515625 72.90625 \r\nL 43.109375 23.296875 \r\nL 61.8125 72.90625 \r\nL 76.515625 72.90625 \r\nL 76.515625 0 \r\nL 66.890625 0 \r\nL 66.890625 64.015625 \r\nL 48.09375 14.015625 \r\nL 38.1875 14.015625 \r\nL 19.390625 64.015625 \r\nL 19.390625 0 \r\nL 9.8125 0 \r\nz\r\n\" id=\"DejaVuSans-77\"/>\r\n       <path d=\"M 45.40625 46.390625 \r\nL 45.40625 75.984375 \r\nL 54.390625 75.984375 \r\nL 54.390625 0 \r\nL 45.40625 0 \r\nL 45.40625 8.203125 \r\nQ 42.578125 3.328125 38.25 0.953125 \r\nQ 33.9375 -1.421875 27.875 -1.421875 \r\nQ 17.96875 -1.421875 11.734375 6.484375 \r\nQ 5.515625 14.40625 5.515625 27.296875 \r\nQ 5.515625 40.1875 11.734375 48.09375 \r\nQ 17.96875 56 27.875 56 \r\nQ 33.9375 56 38.25 53.625 \r\nQ 42.578125 51.265625 45.40625 46.390625 \r\nz\r\nM 14.796875 27.296875 \r\nQ 14.796875 17.390625 18.875 11.75 \r\nQ 22.953125 6.109375 30.078125 6.109375 \r\nQ 37.203125 6.109375 41.296875 11.75 \r\nQ 45.40625 17.390625 45.40625 27.296875 \r\nQ 45.40625 37.203125 41.296875 42.84375 \r\nQ 37.203125 48.484375 30.078125 48.484375 \r\nQ 22.953125 48.484375 18.875 42.84375 \r\nQ 14.796875 37.203125 14.796875 27.296875 \r\nz\r\n\" id=\"DejaVuSans-100\"/>\r\n       <path d=\"M 19.671875 64.796875 \r\nL 19.671875 37.40625 \r\nL 32.078125 37.40625 \r\nQ 38.96875 37.40625 42.71875 40.96875 \r\nQ 46.484375 44.53125 46.484375 51.125 \r\nQ 46.484375 57.671875 42.71875 61.234375 \r\nQ 38.96875 64.796875 32.078125 64.796875 \r\nz\r\nM 9.8125 72.90625 \r\nL 32.078125 72.90625 \r\nQ 44.34375 72.90625 50.609375 67.359375 \r\nQ 56.890625 61.8125 56.890625 51.125 \r\nQ 56.890625 40.328125 50.609375 34.8125 \r\nQ 44.34375 29.296875 32.078125 29.296875 \r\nL 19.671875 29.296875 \r\nL 19.671875 0 \r\nL 9.8125 0 \r\nz\r\n\" id=\"DejaVuSans-80\"/>\r\n      </defs>\r\n      <use xlink:href=\"#DejaVuSans-77\"/>\r\n      <use x=\"86.279297\" xlink:href=\"#DejaVuSans-111\"/>\r\n      <use x=\"147.460938\" xlink:href=\"#DejaVuSans-100\"/>\r\n      <use x=\"210.9375\" xlink:href=\"#DejaVuSans-101\"/>\r\n      <use x=\"272.460938\" xlink:href=\"#DejaVuSans-108\"/>\r\n      <use x=\"300.244141\" xlink:href=\"#DejaVuSans-32\"/>\r\n      <use x=\"332.03125\" xlink:href=\"#DejaVuSans-49\"/>\r\n      <use x=\"395.654297\" xlink:href=\"#DejaVuSans-32\"/>\r\n      <use x=\"427.441406\" xlink:href=\"#DejaVuSans-80\"/>\r\n      <use x=\"485.994141\" xlink:href=\"#DejaVuSans-114\"/>\r\n      <use x=\"524.857422\" xlink:href=\"#DejaVuSans-101\"/>\r\n      <use x=\"586.380859\" xlink:href=\"#DejaVuSans-100\"/>\r\n      <use x=\"649.857422\" xlink:href=\"#DejaVuSans-105\"/>\r\n      <use x=\"677.640625\" xlink:href=\"#DejaVuSans-99\"/>\r\n      <use x=\"732.621094\" xlink:href=\"#DejaVuSans-116\"/>\r\n      <use x=\"771.830078\" xlink:href=\"#DejaVuSans-105\"/>\r\n      <use x=\"799.613281\" xlink:href=\"#DejaVuSans-111\"/>\r\n      <use x=\"860.794922\" xlink:href=\"#DejaVuSans-110\"/>\r\n     </g>\r\n    </g>\r\n    <g id=\"line2d_20\">\r\n     <path d=\"M 55.965625 50.094687 \r\nL 75.965625 50.094687 \r\n\" style=\"fill:none;stroke:#ff7f0e;stroke-linecap:round;stroke-width:1.5;\"/>\r\n    </g>\r\n    <g id=\"line2d_21\"/>\r\n    <g id=\"text_20\">\r\n     <!-- Model 2 Prediction -->\r\n     <g style=\"fill:#262626;\" transform=\"translate(83.965625 53.594687)scale(0.1 -0.1)\">\r\n      <use xlink:href=\"#DejaVuSans-77\"/>\r\n      <use x=\"86.279297\" xlink:href=\"#DejaVuSans-111\"/>\r\n      <use x=\"147.460938\" xlink:href=\"#DejaVuSans-100\"/>\r\n      <use x=\"210.9375\" xlink:href=\"#DejaVuSans-101\"/>\r\n      <use x=\"272.460938\" xlink:href=\"#DejaVuSans-108\"/>\r\n      <use x=\"300.244141\" xlink:href=\"#DejaVuSans-32\"/>\r\n      <use x=\"332.03125\" xlink:href=\"#DejaVuSans-50\"/>\r\n      <use x=\"395.654297\" xlink:href=\"#DejaVuSans-32\"/>\r\n      <use x=\"427.441406\" xlink:href=\"#DejaVuSans-80\"/>\r\n      <use x=\"485.994141\" xlink:href=\"#DejaVuSans-114\"/>\r\n      <use x=\"524.857422\" xlink:href=\"#DejaVuSans-101\"/>\r\n      <use x=\"586.380859\" xlink:href=\"#DejaVuSans-100\"/>\r\n      <use x=\"649.857422\" xlink:href=\"#DejaVuSans-105\"/>\r\n      <use x=\"677.640625\" xlink:href=\"#DejaVuSans-99\"/>\r\n      <use x=\"732.621094\" xlink:href=\"#DejaVuSans-116\"/>\r\n      <use x=\"771.830078\" xlink:href=\"#DejaVuSans-105\"/>\r\n      <use x=\"799.613281\" xlink:href=\"#DejaVuSans-111\"/>\r\n      <use x=\"860.794922\" xlink:href=\"#DejaVuSans-110\"/>\r\n     </g>\r\n    </g>\r\n    <g id=\"PathCollection_2\">\r\n     <g>\r\n      <use style=\"fill:#4776ee;stroke:#ffffff;stroke-width:0.48;\" x=\"65.965625\" xlink:href=\"#m9dd6811879\" y=\"65.647812\"/>\r\n     </g>\r\n    </g>\r\n    <g id=\"text_21\">\r\n     <!-- Actual Values -->\r\n     <g style=\"fill:#262626;\" transform=\"translate(83.965625 68.272812)scale(0.1 -0.1)\">\r\n      <defs>\r\n       <path d=\"M 34.1875 63.1875 \r\nL 20.796875 26.90625 \r\nL 47.609375 26.90625 \r\nz\r\nM 28.609375 72.90625 \r\nL 39.796875 72.90625 \r\nL 67.578125 0 \r\nL 57.328125 0 \r\nL 50.6875 18.703125 \r\nL 17.828125 18.703125 \r\nL 11.1875 0 \r\nL 0.78125 0 \r\nz\r\n\" id=\"DejaVuSans-65\"/>\r\n       <path d=\"M 8.5 21.578125 \r\nL 8.5 54.6875 \r\nL 17.484375 54.6875 \r\nL 17.484375 21.921875 \r\nQ 17.484375 14.15625 20.5 10.265625 \r\nQ 23.53125 6.390625 29.59375 6.390625 \r\nQ 36.859375 6.390625 41.078125 11.03125 \r\nQ 45.3125 15.671875 45.3125 23.6875 \r\nL 45.3125 54.6875 \r\nL 54.296875 54.6875 \r\nL 54.296875 0 \r\nL 45.3125 0 \r\nL 45.3125 8.40625 \r\nQ 42.046875 3.421875 37.71875 1 \r\nQ 33.40625 -1.421875 27.6875 -1.421875 \r\nQ 18.265625 -1.421875 13.375 4.4375 \r\nQ 8.5 10.296875 8.5 21.578125 \r\nz\r\nM 31.109375 56 \r\nz\r\n\" id=\"DejaVuSans-117\"/>\r\n       <path d=\"M 28.609375 0 \r\nL 0.78125 72.90625 \r\nL 11.078125 72.90625 \r\nL 34.1875 11.53125 \r\nL 57.328125 72.90625 \r\nL 67.578125 72.90625 \r\nL 39.796875 0 \r\nz\r\n\" id=\"DejaVuSans-86\"/>\r\n      </defs>\r\n      <use xlink:href=\"#DejaVuSans-65\"/>\r\n      <use x=\"66.658203\" xlink:href=\"#DejaVuSans-99\"/>\r\n      <use x=\"121.638672\" xlink:href=\"#DejaVuSans-116\"/>\r\n      <use x=\"160.847656\" xlink:href=\"#DejaVuSans-117\"/>\r\n      <use x=\"224.226562\" xlink:href=\"#DejaVuSans-97\"/>\r\n      <use x=\"285.505859\" xlink:href=\"#DejaVuSans-108\"/>\r\n      <use x=\"313.289062\" xlink:href=\"#DejaVuSans-32\"/>\r\n      <use x=\"345.076172\" xlink:href=\"#DejaVuSans-86\"/>\r\n      <use x=\"405.734375\" xlink:href=\"#DejaVuSans-97\"/>\r\n      <use x=\"467.013672\" xlink:href=\"#DejaVuSans-108\"/>\r\n      <use x=\"494.796875\" xlink:href=\"#DejaVuSans-117\"/>\r\n      <use x=\"558.175781\" xlink:href=\"#DejaVuSans-101\"/>\r\n      <use x=\"619.699219\" xlink:href=\"#DejaVuSans-115\"/>\r\n     </g>\r\n    </g>\r\n   </g>\r\n  </g>\r\n </g>\r\n <defs>\r\n  <clipPath id=\"pd1287a9f3f\">\r\n   <rect height=\"217.44\" width=\"334.8\" x=\"46.965625\" y=\"22.318125\"/>\r\n  </clipPath>\r\n </defs>\r\n</svg>\r\n",
      "image/png": "[encoded data removed]"
     },
     "metadata": {}
    }
   ],
   "metadata": {}
  },
  {
   "cell_type": "markdown",
   "source": [
    "## Part 3"
   ],
   "metadata": {}
  },
  {
   "cell_type": "code",
   "execution_count": 86,
   "source": [
    "def gradient_descent_a_b_c(\r\n",
    "    df: pd.DataFrame, \r\n",
    "    a_start: float, b_start: float, c_start: float,\r\n",
    "    alpha: float = 0.01, epsilon: float = 0.0001, max_iter: int = 100\r\n",
    "):\r\n",
    "    def E(df: pd.DataFrame, a: float, b: float, c: float):\r\n",
    "        y_true = df['Weight']\r\n",
    "        y_hat = a + b * df['Length'] + c * df['Width']\r\n",
    "        err = y_true - y_hat\r\n",
    "        return (err ** 2).mean()\r\n",
    "    \r\n",
    "    def E_a(df: pd.DataFrame, a: float, b: float, c: float):\r\n",
    "        y_true = df['Weight']\r\n",
    "        y_hat = a + b * df['Length'] + c * df['Width']\r\n",
    "        err = y_true - y_hat\r\n",
    "        return -2 * err.mean()\r\n",
    "    \r\n",
    "    def E_b(df:pd.DataFrame, a: float, b: float, c: float):\r\n",
    "        y_true = df['Weight']\r\n",
    "        y_hat = a + b * df['Length'] + c * df['Width']\r\n",
    "        err = y_true - y_hat\r\n",
    "        return -2 * (err * df['Length']).mean()\r\n",
    "    \r\n",
    "    def E_c(df:pd.DataFrame, a: float, b: float, c: float):\r\n",
    "        y_true = df['Weight']\r\n",
    "        y_hat = a + b * df['Length'] + c * df['Width']\r\n",
    "        err = y_true - y_hat\r\n",
    "        return -2 * (err * df['Width']).mean()\r\n",
    "    \r\n",
    "    def gradient_descent(\r\n",
    "        df: pd.DataFrame,\r\n",
    "        f: Callable, f_a: Callable, f_b: Callable, f_c: Callable,\r\n",
    "        a_start: float, b_start: float, c_start: float,\r\n",
    "        alpha: float = 0.001, epsilon: float = 0.0001,\r\n",
    "        max_iter: int = 100\r\n",
    "    ):\r\n",
    "        a = a_start\r\n",
    "        b = b_start\r\n",
    "        c = c_start\r\n",
    "\r\n",
    "        difference = epsilon + 1\r\n",
    "        e = f(df, a, b, c)\r\n",
    "\r\n",
    "        print(f'i=0; a={a:10.2f}; b={b:10.2f}; c={c:10.5f}; e={e:10.2f}')\r\n",
    "\r\n",
    "        for i in range(1, max_iter + 1):\r\n",
    "            pd_a = f_a(df, a=a, b=b, c=c)\r\n",
    "            pd_b = f_b(df, a=a, b=b, c=c)\r\n",
    "            pd_c = f_c(df, a=a, b=b, c=c)\r\n",
    "\r\n",
    "            a_next = a - alpha * pd_a\r\n",
    "            b_next = b - alpha * pd_b\r\n",
    "            c_next = c - alpha * pd_c\r\n",
    "            e_next = f(df, a_next, b_next, c_next)\r\n",
    "            difference = abs(e_next - e)\r\n",
    "            print(f'\\ri={i}; a={a:10.2f}; b={b:10.2f}; c={c:10.5f}; e={e:10.2f}', end='')\r\n",
    "            if min(difference, pd_a ** 2 + pd_b ** 2 + pd_c ** 2) < epsilon:\r\n",
    "                break\r\n",
    "            a = a_next\r\n",
    "            b = b_next\r\n",
    "            c = c_next\r\n",
    "            e = e_next\r\n",
    "        \r\n",
    "        print(f'\\ni={i}; a={a:10.5f}; b={b:10.5f}; c={c:10.5f}; e={e:10.5f}; v={pd_a ** 2 + pd_b ** 2 + pd_c ** 2}')\r\n",
    "    \r\n",
    "    gradient_descent(df=df,\r\n",
    "        f=E, f_a=E_a, f_b=E_b, f_c=E_c,\r\n",
    "        a_start=a_start, b_start=b_start, c_start=c_start,\r\n",
    "        alpha=alpha, epsilon=epsilon, max_iter=max_iter)\r\n",
    "\r\n",
    "gradient_descent_a_b_c(df=df, a_start=-200, b_start=20, c_start=60, alpha=0.007, epsilon=0.001, max_iter=20000)"
   ],
   "outputs": [
    {
     "output_type": "stream",
     "name": "stdout",
     "text": [
      "i=0; a=   -200.00; b=     20.00; c=  60.00000; e=     74.81\n",
      "i=45; a=   -200.02; b=     20.44; c=  60.12044; e=     47.56\n",
      "i=45; a=-200.02466; b=  20.43726; c=  60.12044; e=  47.55530; v=0.9749029265047006\n"
     ]
    }
   ],
   "metadata": {}
  },
  {
   "cell_type": "code",
   "execution_count": 17,
   "source": [
    "import plotly.express as px\r\n",
    "\r\n",
    "fig = px.scatter_3d(data_frame=df, x='Length', y='Width', z='Weight')\r\n",
    "fig.add_trace(px.line_3d(x=np.linspace(10, 13), y=np.linspace(1, 2), z=-201.17285 + 20.11287 * np.linspace(10, 13) + 63.58511 * np.linspace(1, 2)).update_traces(line={'color': 'red'}).data[0])\r\n",
    "fig"
   ],
   "outputs": [
    {
     "output_type": "display_data",
     "data": {
      "application/vnd.plotly.v1+json": {
       "config": {
        "plotlyServerURL": "https://plot.ly"
       },
       "data": [
        {
         "hovertemplate": "Length=%{x}<br>Width=%{y}<br>Weight=%{z}<extra></extra>",
         "legendgroup": "",
         "marker": {
          "color": "#636efa",
          "symbol": "circle"
         },
         "mode": "markers",
         "name": "",
         "scene": "scene",
         "showlegend": false,
         "type": "scatter3d",
         "x": [
          9.3,
          10,
          10.1,
          10.1,
          10.2,
          10.3,
          10.4,
          10.7,
          10.8,
          11.1,
          11.2,
          11.3,
          11.3,
          11.4,
          11.5,
          11.7,
          12.1,
          12.2,
          12.4,
          12.5,
          12.7,
          12.9,
          13,
          13.2,
          13.8
         ],
         "y": [
          1.0476,
          1.16,
          1.1484,
          1.1821,
          1.256,
          1.3012,
          1.38,
          1.2772,
          1.2852,
          1.2834,
          1.2387,
          1.2838,
          1.1659,
          1.1484,
          1.3936,
          1.2690000000000001,
          1.2558,
          1.4467,
          1.382,
          1.5317,
          1.7251,
          1.984,
          1.954,
          2.0672,
          1.8792
         ],
         "z": [
          67,
          75,
          70,
          72,
          79,
          85,
          97,
          98,
          87,
          101,
          96,
          100,
          99,
          98,
          122,
          134,
          122,
          136,
          132,
          155,
          170,
          174,
          189,
          197,
          199
         ]
        },
        {
         "hovertemplate": "x=%{x}<br>y=%{y}<br>z=%{z}<extra></extra>",
         "legendgroup": "",
         "line": {
          "color": "red",
          "dash": "solid"
         },
         "mode": "lines",
         "name": "",
         "scene": "scene",
         "showlegend": false,
         "type": "scatter3d",
         "x": [
          10,
          10.061224489795919,
          10.122448979591837,
          10.183673469387756,
          10.244897959183673,
          10.306122448979592,
          10.36734693877551,
          10.428571428571429,
          10.489795918367347,
          10.551020408163264,
          10.612244897959183,
          10.673469387755102,
          10.73469387755102,
          10.795918367346939,
          10.857142857142858,
          10.918367346938776,
          10.979591836734693,
          11.040816326530612,
          11.10204081632653,
          11.16326530612245,
          11.224489795918368,
          11.285714285714285,
          11.346938775510203,
          11.408163265306122,
          11.46938775510204,
          11.53061224489796,
          11.591836734693878,
          11.653061224489797,
          11.714285714285714,
          11.775510204081632,
          11.83673469387755,
          11.89795918367347,
          11.959183673469388,
          12.020408163265305,
          12.081632653061224,
          12.142857142857142,
          12.204081632653061,
          12.26530612244898,
          12.326530612244898,
          12.387755102040817,
          12.448979591836736,
          12.510204081632653,
          12.571428571428571,
          12.63265306122449,
          12.693877551020408,
          12.755102040816325,
          12.816326530612244,
          12.877551020408163,
          12.938775510204081,
          13
         ],
         "y": [
          1,
          1.0204081632653061,
          1.0408163265306123,
          1.0612244897959184,
          1.0816326530612246,
          1.1020408163265305,
          1.1224489795918366,
          1.1428571428571428,
          1.163265306122449,
          1.183673469387755,
          1.2040816326530612,
          1.2244897959183674,
          1.2448979591836735,
          1.2653061224489797,
          1.2857142857142856,
          1.3061224489795917,
          1.3265306122448979,
          1.346938775510204,
          1.3673469387755102,
          1.3877551020408163,
          1.4081632653061225,
          1.4285714285714286,
          1.4489795918367347,
          1.4693877551020407,
          1.489795918367347,
          1.510204081632653,
          1.530612244897959,
          1.5510204081632653,
          1.5714285714285714,
          1.5918367346938775,
          1.6122448979591835,
          1.6326530612244898,
          1.6530612244897958,
          1.6734693877551021,
          1.693877551020408,
          1.7142857142857142,
          1.7346938775510203,
          1.7551020408163265,
          1.7755102040816326,
          1.7959183673469385,
          1.816326530612245,
          1.8367346938775508,
          1.8571428571428572,
          1.8775510204081631,
          1.8979591836734693,
          1.9183673469387754,
          1.9387755102040816,
          1.9591836734693877,
          1.9795918367346939,
          2
         ],
         "z": [
          63.54096,
          66.07001551020409,
          68.59907102040818,
          71.12812653061226,
          73.65718204081632,
          76.1862375510204,
          78.71529306122449,
          81.24434857142857,
          83.77340408163266,
          86.30245959183672,
          88.83151510204081,
          91.3605706122449,
          93.88962612244899,
          96.41868163265308,
          98.94773714285715,
          101.47679265306124,
          104.0058481632653,
          106.53490367346939,
          109.06395918367348,
          111.59301469387756,
          114.12207020408165,
          116.65112571428571,
          119.1801812244898,
          121.70923673469387,
          124.23829224489798,
          126.76734775510204,
          129.29640326530614,
          131.8254587755102,
          134.3545142857143,
          136.88356979591836,
          139.41262530612244,
          141.94168081632654,
          144.4707363265306,
          146.9997918367347,
          149.52884734693876,
          152.05790285714284,
          154.58695836734694,
          157.11601387755104,
          159.64506938775511,
          162.1741248979592,
          164.7031804081633,
          167.23223591836734,
          169.76129142857144,
          172.2903469387755,
          174.8194024489796,
          177.34845795918363,
          179.87751346938774,
          182.4065689795918,
          184.93562448979588,
          187.46468
         ]
        }
       ],
       "layout": {
        "legend": {
         "tracegroupgap": 0
        },
        "margin": {
         "t": 60
        },
        "scene": {
         "domain": {
          "x": [
           0,
           1
          ],
          "y": [
           0,
           1
          ]
         },
         "xaxis": {
          "title": {
           "text": "Length"
          }
         },
         "yaxis": {
          "title": {
           "text": "Width"
          }
         },
         "zaxis": {
          "title": {
           "text": "Weight"
          }
         }
        },
        "template": {
         "data": {
          "bar": [
           {
            "error_x": {
             "color": "#2a3f5f"
            },
            "error_y": {
             "color": "#2a3f5f"
            },
            "marker": {
             "line": {
              "color": "#E5ECF6",
              "width": 0.5
             }
            },
            "type": "bar"
           }
          ],
          "barpolar": [
           {
            "marker": {
             "line": {
              "color": "#E5ECF6",
              "width": 0.5
             }
            },
            "type": "barpolar"
           }
          ],
          "carpet": [
           {
            "aaxis": {
             "endlinecolor": "#2a3f5f",
             "gridcolor": "white",
             "linecolor": "white",
             "minorgridcolor": "white",
             "startlinecolor": "#2a3f5f"
            },
            "baxis": {
             "endlinecolor": "#2a3f5f",
             "gridcolor": "white",
             "linecolor": "white",
             "minorgridcolor": "white",
             "startlinecolor": "#2a3f5f"
            },
            "type": "carpet"
           }
          ],
          "choropleth": [
           {
            "colorbar": {
             "outlinewidth": 0,
             "ticks": ""
            },
            "type": "choropleth"
           }
          ],
          "contour": [
           {
            "colorbar": {
             "outlinewidth": 0,
             "ticks": ""
            },
            "colorscale": [
             [
              0,
              "#0d0887"
             ],
             [
              0.1111111111111111,
              "#46039f"
             ],
             [
              0.2222222222222222,
              "#7201a8"
             ],
             [
              0.3333333333333333,
              "#9c179e"
             ],
             [
              0.4444444444444444,
              "#bd3786"
             ],
             [
              0.5555555555555556,
              "#d8576b"
             ],
             [
              0.6666666666666666,
              "#ed7953"
             ],
             [
              0.7777777777777778,
              "#fb9f3a"
             ],
             [
              0.8888888888888888,
              "#fdca26"
             ],
             [
              1,
              "#f0f921"
             ]
            ],
            "type": "contour"
           }
          ],
          "contourcarpet": [
           {
            "colorbar": {
             "outlinewidth": 0,
             "ticks": ""
            },
            "type": "contourcarpet"
           }
          ],
          "heatmap": [
           {
            "colorbar": {
             "outlinewidth": 0,
             "ticks": ""
            },
            "colorscale": [
             [
              0,
              "#0d0887"
             ],
             [
              0.1111111111111111,
              "#46039f"
             ],
             [
              0.2222222222222222,
              "#7201a8"
             ],
             [
              0.3333333333333333,
              "#9c179e"
             ],
             [
              0.4444444444444444,
              "#bd3786"
             ],
             [
              0.5555555555555556,
              "#d8576b"
             ],
             [
              0.6666666666666666,
              "#ed7953"
             ],
             [
              0.7777777777777778,
              "#fb9f3a"
             ],
             [
              0.8888888888888888,
              "#fdca26"
             ],
             [
              1,
              "#f0f921"
             ]
            ],
            "type": "heatmap"
           }
          ],
          "heatmapgl": [
           {
            "colorbar": {
             "outlinewidth": 0,
             "ticks": ""
            },
            "colorscale": [
             [
              0,
              "#0d0887"
             ],
             [
              0.1111111111111111,
              "#46039f"
             ],
             [
              0.2222222222222222,
              "#7201a8"
             ],
             [
              0.3333333333333333,
              "#9c179e"
             ],
             [
              0.4444444444444444,
              "#bd3786"
             ],
             [
              0.5555555555555556,
              "#d8576b"
             ],
             [
              0.6666666666666666,
              "#ed7953"
             ],
             [
              0.7777777777777778,
              "#fb9f3a"
             ],
             [
              0.8888888888888888,
              "#fdca26"
             ],
             [
              1,
              "#f0f921"
             ]
            ],
            "type": "heatmapgl"
           }
          ],
          "histogram": [
           {
            "marker": {
             "colorbar": {
              "outlinewidth": 0,
              "ticks": ""
             }
            },
            "type": "histogram"
           }
          ],
          "histogram2d": [
           {
            "colorbar": {
             "outlinewidth": 0,
             "ticks": ""
            },
            "colorscale": [
             [
              0,
              "#0d0887"
             ],
             [
              0.1111111111111111,
              "#46039f"
             ],
             [
              0.2222222222222222,
              "#7201a8"
             ],
             [
              0.3333333333333333,
              "#9c179e"
             ],
             [
              0.4444444444444444,
              "#bd3786"
             ],
             [
              0.5555555555555556,
              "#d8576b"
             ],
             [
              0.6666666666666666,
              "#ed7953"
             ],
             [
              0.7777777777777778,
              "#fb9f3a"
             ],
             [
              0.8888888888888888,
              "#fdca26"
             ],
             [
              1,
              "#f0f921"
             ]
            ],
            "type": "histogram2d"
           }
          ],
          "histogram2dcontour": [
           {
            "colorbar": {
             "outlinewidth": 0,
             "ticks": ""
            },
            "colorscale": [
             [
              0,
              "#0d0887"
             ],
             [
              0.1111111111111111,
              "#46039f"
             ],
             [
              0.2222222222222222,
              "#7201a8"
             ],
             [
              0.3333333333333333,
              "#9c179e"
             ],
             [
              0.4444444444444444,
              "#bd3786"
             ],
             [
              0.5555555555555556,
              "#d8576b"
             ],
             [
              0.6666666666666666,
              "#ed7953"
             ],
             [
              0.7777777777777778,
              "#fb9f3a"
             ],
             [
              0.8888888888888888,
              "#fdca26"
             ],
             [
              1,
              "#f0f921"
             ]
            ],
            "type": "histogram2dcontour"
           }
          ],
          "mesh3d": [
           {
            "colorbar": {
             "outlinewidth": 0,
             "ticks": ""
            },
            "type": "mesh3d"
           }
          ],
          "parcoords": [
           {
            "line": {
             "colorbar": {
              "outlinewidth": 0,
              "ticks": ""
             }
            },
            "type": "parcoords"
           }
          ],
          "pie": [
           {
            "automargin": true,
            "type": "pie"
           }
          ],
          "scatter": [
           {
            "marker": {
             "colorbar": {
              "outlinewidth": 0,
              "ticks": ""
             }
            },
            "type": "scatter"
           }
          ],
          "scatter3d": [
           {
            "line": {
             "colorbar": {
              "outlinewidth": 0,
              "ticks": ""
             }
            },
            "marker": {
             "colorbar": {
              "outlinewidth": 0,
              "ticks": ""
             }
            },
            "type": "scatter3d"
           }
          ],
          "scattercarpet": [
           {
            "marker": {
             "colorbar": {
              "outlinewidth": 0,
              "ticks": ""
             }
            },
            "type": "scattercarpet"
           }
          ],
          "scattergeo": [
           {
            "marker": {
             "colorbar": {
              "outlinewidth": 0,
              "ticks": ""
             }
            },
            "type": "scattergeo"
           }
          ],
          "scattergl": [
           {
            "marker": {
             "colorbar": {
              "outlinewidth": 0,
              "ticks": ""
             }
            },
            "type": "scattergl"
           }
          ],
          "scattermapbox": [
           {
            "marker": {
             "colorbar": {
              "outlinewidth": 0,
              "ticks": ""
             }
            },
            "type": "scattermapbox"
           }
          ],
          "scatterpolar": [
           {
            "marker": {
             "colorbar": {
              "outlinewidth": 0,
              "ticks": ""
             }
            },
            "type": "scatterpolar"
           }
          ],
          "scatterpolargl": [
           {
            "marker": {
             "colorbar": {
              "outlinewidth": 0,
              "ticks": ""
             }
            },
            "type": "scatterpolargl"
           }
          ],
          "scatterternary": [
           {
            "marker": {
             "colorbar": {
              "outlinewidth": 0,
              "ticks": ""
             }
            },
            "type": "scatterternary"
           }
          ],
          "surface": [
           {
            "colorbar": {
             "outlinewidth": 0,
             "ticks": ""
            },
            "colorscale": [
             [
              0,
              "#0d0887"
             ],
             [
              0.1111111111111111,
              "#46039f"
             ],
             [
              0.2222222222222222,
              "#7201a8"
             ],
             [
              0.3333333333333333,
              "#9c179e"
             ],
             [
              0.4444444444444444,
              "#bd3786"
             ],
             [
              0.5555555555555556,
              "#d8576b"
             ],
             [
              0.6666666666666666,
              "#ed7953"
             ],
             [
              0.7777777777777778,
              "#fb9f3a"
             ],
             [
              0.8888888888888888,
              "#fdca26"
             ],
             [
              1,
              "#f0f921"
             ]
            ],
            "type": "surface"
           }
          ],
          "table": [
           {
            "cells": {
             "fill": {
              "color": "#EBF0F8"
             },
             "line": {
              "color": "white"
             }
            },
            "header": {
             "fill": {
              "color": "#C8D4E3"
             },
             "line": {
              "color": "white"
             }
            },
            "type": "table"
           }
          ]
         },
         "layout": {
          "annotationdefaults": {
           "arrowcolor": "#2a3f5f",
           "arrowhead": 0,
           "arrowwidth": 1
          },
          "autotypenumbers": "strict",
          "coloraxis": {
           "colorbar": {
            "outlinewidth": 0,
            "ticks": ""
           }
          },
          "colorscale": {
           "diverging": [
            [
             0,
             "#8e0152"
            ],
            [
             0.1,
             "#c51b7d"
            ],
            [
             0.2,
             "#de77ae"
            ],
            [
             0.3,
             "#f1b6da"
            ],
            [
             0.4,
             "#fde0ef"
            ],
            [
             0.5,
             "#f7f7f7"
            ],
            [
             0.6,
             "#e6f5d0"
            ],
            [
             0.7,
             "#b8e186"
            ],
            [
             0.8,
             "#7fbc41"
            ],
            [
             0.9,
             "#4d9221"
            ],
            [
             1,
             "#276419"
            ]
           ],
           "sequential": [
            [
             0,
             "#0d0887"
            ],
            [
             0.1111111111111111,
             "#46039f"
            ],
            [
             0.2222222222222222,
             "#7201a8"
            ],
            [
             0.3333333333333333,
             "#9c179e"
            ],
            [
             0.4444444444444444,
             "#bd3786"
            ],
            [
             0.5555555555555556,
             "#d8576b"
            ],
            [
             0.6666666666666666,
             "#ed7953"
            ],
            [
             0.7777777777777778,
             "#fb9f3a"
            ],
            [
             0.8888888888888888,
             "#fdca26"
            ],
            [
             1,
             "#f0f921"
            ]
           ],
           "sequentialminus": [
            [
             0,
             "#0d0887"
            ],
            [
             0.1111111111111111,
             "#46039f"
            ],
            [
             0.2222222222222222,
             "#7201a8"
            ],
            [
             0.3333333333333333,
             "#9c179e"
            ],
            [
             0.4444444444444444,
             "#bd3786"
            ],
            [
             0.5555555555555556,
             "#d8576b"
            ],
            [
             0.6666666666666666,
             "#ed7953"
            ],
            [
             0.7777777777777778,
             "#fb9f3a"
            ],
            [
             0.8888888888888888,
             "#fdca26"
            ],
            [
             1,
             "#f0f921"
            ]
           ]
          },
          "colorway": [
           "#636efa",
           "#EF553B",
           "#00cc96",
           "#ab63fa",
           "#FFA15A",
           "#19d3f3",
           "#FF6692",
           "#B6E880",
           "#FF97FF",
           "#FECB52"
          ],
          "font": {
           "color": "#2a3f5f"
          },
          "geo": {
           "bgcolor": "white",
           "lakecolor": "white",
           "landcolor": "#E5ECF6",
           "showlakes": true,
           "showland": true,
           "subunitcolor": "white"
          },
          "hoverlabel": {
           "align": "left"
          },
          "hovermode": "closest",
          "mapbox": {
           "style": "light"
          },
          "paper_bgcolor": "white",
          "plot_bgcolor": "#E5ECF6",
          "polar": {
           "angularaxis": {
            "gridcolor": "white",
            "linecolor": "white",
            "ticks": ""
           },
           "bgcolor": "#E5ECF6",
           "radialaxis": {
            "gridcolor": "white",
            "linecolor": "white",
            "ticks": ""
           }
          },
          "scene": {
           "xaxis": {
            "backgroundcolor": "#E5ECF6",
            "gridcolor": "white",
            "gridwidth": 2,
            "linecolor": "white",
            "showbackground": true,
            "ticks": "",
            "zerolinecolor": "white"
           },
           "yaxis": {
            "backgroundcolor": "#E5ECF6",
            "gridcolor": "white",
            "gridwidth": 2,
            "linecolor": "white",
            "showbackground": true,
            "ticks": "",
            "zerolinecolor": "white"
           },
           "zaxis": {
            "backgroundcolor": "#E5ECF6",
            "gridcolor": "white",
            "gridwidth": 2,
            "linecolor": "white",
            "showbackground": true,
            "ticks": "",
            "zerolinecolor": "white"
           }
          },
          "shapedefaults": {
           "line": {
            "color": "#2a3f5f"
           }
          },
          "ternary": {
           "aaxis": {
            "gridcolor": "white",
            "linecolor": "white",
            "ticks": ""
           },
           "baxis": {
            "gridcolor": "white",
            "linecolor": "white",
            "ticks": ""
           },
           "bgcolor": "#E5ECF6",
           "caxis": {
            "gridcolor": "white",
            "linecolor": "white",
            "ticks": ""
           }
          },
          "title": {
           "x": 0.05
          },
          "xaxis": {
           "automargin": true,
           "gridcolor": "white",
           "linecolor": "white",
           "ticks": "",
           "title": {
            "standoff": 15
           },
           "zerolinecolor": "white",
           "zerolinewidth": 2
          },
          "yaxis": {
           "automargin": true,
           "gridcolor": "white",
           "linecolor": "white",
           "ticks": "",
           "title": {
            "standoff": 15
           },
           "zerolinecolor": "white",
           "zerolinewidth": 2
          }
         }
        }
       }
      }
     },
     "metadata": {}
    }
   ],
   "metadata": {}
  }
 ],
 "metadata": {
  "orig_nbformat": 4,
  "language_info": {
   "name": "python",
   "version": "3.8.5",
   "mimetype": "text/x-python",
   "codemirror_mode": {
    "name": "ipython",
    "version": 3
   },
   "pygments_lexer": "ipython3",
   "nbconvert_exporter": "python",
   "file_extension": ".py"
  },
  "kernelspec": {
   "name": "python3",
   "display_name": "Python 3.8.5 32-bit"
  },
  "interpreter": {
   "hash": "571bacba9a29d47d526870ce679dff83b29c24567c7b1ef6e20c2daefc5a9ce9"
  }
 },
 "nbformat": 4,
 "nbformat_minor": 2
}