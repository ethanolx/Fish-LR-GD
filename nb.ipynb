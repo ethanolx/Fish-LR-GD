{
 "cells": [
  {
   "cell_type": "markdown",
   "source": [
    "## Import Dependencies"
   ],
   "metadata": {}
  },
  {
   "cell_type": "code",
   "execution_count": 1,
   "source": [
    "import numpy as np\r\n",
    "import sympy as sp\r\n",
    "import pandas as pd\r\n",
    "\r\n",
    "import matplotlib.pyplot as plt\r\n",
    "import seaborn as sns\r\n",
    "\r\n",
    "from typing import List, Tuple, Dict, Callable"
   ],
   "outputs": [],
   "metadata": {}
  },
  {
   "cell_type": "markdown",
   "source": [
    "## Import Data"
   ],
   "metadata": {}
  },
  {
   "cell_type": "code",
   "execution_count": 2,
   "source": [
    "df = pd.read_csv('./fish.csv', sep=',', header=0)\r\n",
    "df.head()"
   ],
   "outputs": [
    {
     "output_type": "execute_result",
     "data": {
      "text/plain": [
       "   Weight  Length   Width\n",
       "0      67     9.3  1.0476\n",
       "1      75    10.0  1.1600\n",
       "2      70    10.1  1.1484\n",
       "3      72    10.1  1.1821\n",
       "4      79    10.2  1.2560"
      ],
      "text/html": [
       "<div>\n",
       "<style scoped>\n",
       "    .dataframe tbody tr th:only-of-type {\n",
       "        vertical-align: middle;\n",
       "    }\n",
       "\n",
       "    .dataframe tbody tr th {\n",
       "        vertical-align: top;\n",
       "    }\n",
       "\n",
       "    .dataframe thead th {\n",
       "        text-align: right;\n",
       "    }\n",
       "</style>\n",
       "<table border=\"1\" class=\"dataframe\">\n",
       "  <thead>\n",
       "    <tr style=\"text-align: right;\">\n",
       "      <th></th>\n",
       "      <th>Weight</th>\n",
       "      <th>Length</th>\n",
       "      <th>Width</th>\n",
       "    </tr>\n",
       "  </thead>\n",
       "  <tbody>\n",
       "    <tr>\n",
       "      <th>0</th>\n",
       "      <td>67</td>\n",
       "      <td>9.3</td>\n",
       "      <td>1.0476</td>\n",
       "    </tr>\n",
       "    <tr>\n",
       "      <th>1</th>\n",
       "      <td>75</td>\n",
       "      <td>10.0</td>\n",
       "      <td>1.1600</td>\n",
       "    </tr>\n",
       "    <tr>\n",
       "      <th>2</th>\n",
       "      <td>70</td>\n",
       "      <td>10.1</td>\n",
       "      <td>1.1484</td>\n",
       "    </tr>\n",
       "    <tr>\n",
       "      <th>3</th>\n",
       "      <td>72</td>\n",
       "      <td>10.1</td>\n",
       "      <td>1.1821</td>\n",
       "    </tr>\n",
       "    <tr>\n",
       "      <th>4</th>\n",
       "      <td>79</td>\n",
       "      <td>10.2</td>\n",
       "      <td>1.2560</td>\n",
       "    </tr>\n",
       "  </tbody>\n",
       "</table>\n",
       "</div>"
      ]
     },
     "metadata": {},
     "execution_count": 2
    }
   ],
   "metadata": {}
  },
  {
   "cell_type": "markdown",
   "source": [
    "## EDA"
   ],
   "metadata": {}
  },
  {
   "cell_type": "code",
   "execution_count": 3,
   "source": [
    "ax = sns.scatterplot(data=df, x='Length', y='Weight')\r\n",
    "sns.lineplot(x=np.linspace(9, 15), y=33.40157 * np.linspace(9, 15) -264.19890, color='r', ax=ax)"
   ],
   "outputs": [
    {
     "output_type": "execute_result",
     "data": {
      "text/plain": [
       "<AxesSubplot:xlabel='Length', ylabel='Weight'>"
      ]
     },
     "metadata": {},
     "execution_count": 3
    },
    {
     "output_type": "display_data",
     "data": {
      "text/plain": [
       "<Figure size 432x288 with 1 Axes>"
      ],
      "image/png": "[encoded data removed]"
     },
     "metadata": {
      "needs_background": "light"
     }
    }
   ],
   "metadata": {}
  },
  {
   "cell_type": "code",
   "execution_count": 4,
   "source": [
    "def univariate_gradient_descent_b(\r\n",
    "    f: Callable, f_: Callable, b_start: float,\r\n",
    "    alpha: float = 0.01, epsilon: float = 0.0001,\r\n",
    "    max_iter: int = 100\r\n",
    "):\r\n",
    "    global df\r\n",
    "    b = b_start\r\n",
    "    X = df['Length']\r\n",
    "    Y = df['Weight']\r\n",
    "    difference = epsilon + 1\r\n",
    "    e = f(df, b)\r\n",
    "\r\n",
    "    print(f'Iteration 0; b={b:.2f}; e={e:.2f}')\r\n",
    "\r\n",
    "    for i in range(1, max_iter + 1):\r\n",
    "        b_next = b - alpha * f_(df, b)\r\n",
    "        e_next = f(df, b_next)\r\n",
    "        difference = abs(e_next - e)\r\n",
    "        if difference < epsilon:\r\n",
    "            break\r\n",
    "        b = b_next\r\n",
    "        e = e_next\r\n",
    "    \r\n",
    "    print(f'Iteration {i}; b={b:.5f}; e={e:.5f}')"
   ],
   "outputs": [],
   "metadata": {}
  },
  {
   "cell_type": "code",
   "execution_count": 5,
   "source": [
    "def E(df: pd.DataFrame, b: float, a: float = 0.0):\r\n",
    "    y_true = df['Weight']\r\n",
    "    y_hat = b * df['Length'] + a\r\n",
    "    err = y_true - y_hat\r\n",
    "    return (err ** 2).mean()\r\n",
    "\r\n",
    "E(df, 12)"
   ],
   "outputs": [
    {
     "output_type": "execute_result",
     "data": {
      "text/plain": [
       "1127.5520000000001"
      ]
     },
     "metadata": {},
     "execution_count": 5
    }
   ],
   "metadata": {}
  },
  {
   "cell_type": "code",
   "execution_count": 6,
   "source": [
    "def E_b(df:pd.DataFrame, b: float, a: float = 0.0):\r\n",
    "    y_true = df['Weight']\r\n",
    "    y_hat = b * df['Length'] + a\r\n",
    "    err = y_true - y_hat\r\n",
    "    return -2 * (err * df['Length']).mean()\r\n",
    "\r\n",
    "E_b(df, 30, -220)"
   ],
   "outputs": [
    {
     "output_type": "execute_result",
     "data": {
      "text/plain": [
       "111.31999999999998"
      ]
     },
     "metadata": {},
     "execution_count": 6
    }
   ],
   "metadata": {}
  },
  {
   "cell_type": "code",
   "execution_count": 46,
   "source": [
    "univariate_gradient_descent_b(f = E, f_ = E_b, b_start = 8, alpha=0.005, epsilon=0.0001, max_iter=100)"
   ],
   "outputs": [
    {
     "output_type": "stream",
     "name": "stdout",
     "text": [
      "Iteration 0; b=8.00; e=1715.87\n",
      "Iteration 9; b=10.55518; e=851.30939\n"
     ]
    }
   ],
   "metadata": {}
  },
  {
   "cell_type": "markdown",
   "source": [
    "## Part 2"
   ],
   "metadata": {}
  },
  {
   "cell_type": "code",
   "execution_count": 56,
   "source": [
    "def univariate_gradient_descent(\r\n",
    "    f: Callable, f_b: Callable, f_a: Callable,\r\n",
    "    b_start: float, a_start: float,\r\n",
    "    alpha: float = 0.001, epsilon: float = 0.0001,\r\n",
    "    max_iter: int = 100\r\n",
    "):\r\n",
    "    global df\r\n",
    "    b = b_start\r\n",
    "    a = a_start\r\n",
    "    difference = epsilon + 1\r\n",
    "    e = f(df, b, a)\r\n",
    "\r\n",
    "    print(f'i=0; b={b:10.2f}; a={a:10.2f}; e={e:10.2f}')\r\n",
    "\r\n",
    "    for i in range(1, max_iter + 1):\r\n",
    "        pd_b = f_b(df, b, a)\r\n",
    "        pd_a = f_a(df, b, a)\r\n",
    "        b_next = b - alpha * pd_b\r\n",
    "        a_next = a - alpha * pd_a\r\n",
    "        e_next = f(df, b_next, a_next)\r\n",
    "        difference = abs(e_next - e)\r\n",
    "        if min(difference, pd_a ** 2 + pd_b ** 2) < epsilon:\r\n",
    "            print(f'i={i}; b={b:10.5f}; a={a:10.5f}; e={e:10.5f}')\r\n",
    "        b = b_next\r\n",
    "        a = a_next\r\n",
    "        e = e_next\r\n",
    "        if min(difference, pd_a ** 2 + pd_b ** 2) < epsilon:\r\n",
    "            break\r\n",
    "    \r\n",
    "    print(f'i={i}; b={b:10.5f}; a={a:10.5f}; e={e:10.5f}')\r\n",
    "    "
   ],
   "outputs": [],
   "metadata": {}
  },
  {
   "cell_type": "code",
   "execution_count": 9,
   "source": [
    "def E_a(df: pd.DataFrame, b: float, a: float = 0.0):\r\n",
    "    y_true = df['Weight']\r\n",
    "    y_hat = b * df['Length'] + a\r\n",
    "    err = y_true - y_hat\r\n",
    "    return -2 * err.mean()\r\n",
    "\r\n",
    "E_a(df, 10.55545, 2)"
   ],
   "outputs": [
    {
     "output_type": "execute_result",
     "data": {
      "text/plain": [
       "9.357583200000011"
      ]
     },
     "metadata": {},
     "execution_count": 9
    }
   ],
   "metadata": {}
  },
  {
   "cell_type": "code",
   "execution_count": 57,
   "source": [
    "univariate_gradient_descent(E, E_b, E_a, 20, -10, alpha=0.007, epsilon=0.0001, max_iter=30000)"
   ],
   "outputs": [
    {
     "output_type": "stream",
     "name": "stdout",
     "text": [
      "i=0; b=     20.00; a=    -10.00; e=  10544.16\n",
      "i=26893; b=  33.07875; a=-260.46601; e= 137.83775\n",
      "i=26893; b=  33.07882; a=-260.46684; e= 137.83765\n"
     ]
    }
   ],
   "metadata": {}
  },
  {
   "cell_type": "markdown",
   "source": [
    "## Part 3"
   ],
   "metadata": {}
  },
  {
   "cell_type": "code",
   "execution_count": 31,
   "source": [
    "def E2(df: pd.DataFrame, a: float, b: float, c: float):\r\n",
    "    y_true = df['Weight']\r\n",
    "    y_hat = a + b * df['Length'] + c * df['Width']\r\n",
    "    err = y_true - y_hat\r\n",
    "    return (err ** 2).mean()\r\n",
    "\r\n",
    "E2(df, -264, 33, -0.6)"
   ],
   "outputs": [
    {
     "output_type": "execute_result",
     "data": {
      "text/plain": [
       "167.19251554851212"
      ]
     },
     "metadata": {},
     "execution_count": 31
    }
   ],
   "metadata": {}
  },
  {
   "cell_type": "code",
   "execution_count": 32,
   "source": [
    "def E2_a(df: pd.DataFrame, a: float, b: float, c: float):\r\n",
    "    y_true = df['Weight']\r\n",
    "    y_hat = a + b * df['Length'] + c * df['Width']\r\n",
    "    err = y_true - y_hat\r\n",
    "    return -2 * err.mean()\r\n",
    "\r\n",
    "E2_a(df, 10.55545, 2, 0)"
   ],
   "outputs": [
    {
     "output_type": "execute_result",
     "data": {
      "text/plain": [
       "-169.4171"
      ]
     },
     "metadata": {},
     "execution_count": 32
    }
   ],
   "metadata": {}
  },
  {
   "cell_type": "code",
   "execution_count": 33,
   "source": [
    "def E2_b(df:pd.DataFrame, a: float, b: float, c: float):\r\n",
    "    y_true = df['Weight']\r\n",
    "    y_hat = a + b * df['Length'] + c * df['Width']\r\n",
    "    err = y_true - y_hat\r\n",
    "    return -2 * (err * df['Length']).mean()\r\n",
    "\r\n",
    "E2_b(df, 30, -220, 0)"
   ],
   "outputs": [
    {
     "output_type": "execute_result",
     "data": {
      "text/plain": [
       "-60358.68"
      ]
     },
     "metadata": {},
     "execution_count": 33
    }
   ],
   "metadata": {}
  },
  {
   "cell_type": "code",
   "execution_count": 34,
   "source": [
    "def E2_c(df:pd.DataFrame, a: float, b: float, c: float):\r\n",
    "    y_true = df['Weight']\r\n",
    "    y_hat = a + b * df['Length'] + c * df['Width']\r\n",
    "    err = y_true - y_hat\r\n",
    "    return -2 * (err * df['Width']).mean()\r\n",
    "\r\n",
    "E2_c(df, 30, -220, 0)"
   ],
   "outputs": [
    {
     "output_type": "execute_result",
     "data": {
      "text/plain": [
       "-7449.4511680000005"
      ]
     },
     "metadata": {},
     "execution_count": 34
    }
   ],
   "metadata": {}
  },
  {
   "cell_type": "code",
   "execution_count": 42,
   "source": [
    "def bivariate_gradient_descent(\r\n",
    "    f: Callable, f_a: Callable, f_b: Callable, f_c: Callable,\r\n",
    "    a_start: float, b_start: float, c_start: float,\r\n",
    "    alpha: float = 0.001, epsilon: float = 0.0001,\r\n",
    "    max_iter: int = 100\r\n",
    "):\r\n",
    "    global df\r\n",
    "    a = a_start\r\n",
    "    b = b_start\r\n",
    "    c = c_start\r\n",
    "\r\n",
    "    difference = epsilon + 1\r\n",
    "    e = f(df, a, b, c)\r\n",
    "\r\n",
    "    print(f'i=0; a={a:10.2f}; b={b:10.2f}; c={c:10.5f}; e={e:10.2f}')\r\n",
    "\r\n",
    "    for i in range(1, max_iter + 1):\r\n",
    "        a_next = a - alpha * f_a(df, a, b, c)\r\n",
    "        b_next = b - alpha * f_b(df, a, b, c)\r\n",
    "        c_next = c - alpha * f_c(df, a, b, c)\r\n",
    "        e_next = f(df, a_next, b_next, c_next)\r\n",
    "        difference = abs(e_next - e)\r\n",
    "        if difference < epsilon:\r\n",
    "            break\r\n",
    "        a = a_next\r\n",
    "        b = b_next\r\n",
    "        c = c_next\r\n",
    "        e = e_next\r\n",
    "    \r\n",
    "    print(f'i={i}; a={a:10.5f}; b={b:10.5f}; c={c:10.5f}; e={e:10.5f}')\r\n",
    "    "
   ],
   "outputs": [],
   "metadata": {}
  },
  {
   "cell_type": "code",
   "execution_count": 43,
   "source": [
    "bivariate_gradient_descent(E2, E2_a, E2_b, E2_c, a_start=0, b_start=0, c_start=0, alpha=0.007, epsilon=0.001, max_iter=40000)"
   ],
   "outputs": [
    {
     "output_type": "stream",
     "name": "stdout",
     "text": [
      "i=0; a=      0.00; b=      0.00; c=   0.00000; e=  15601.76\n",
      "i=19753; a=-182.97329; b=  17.74585; c=  70.01875; e=  51.91297\n"
     ]
    }
   ],
   "metadata": {}
  },
  {
   "cell_type": "code",
   "execution_count": 41,
   "source": [
    "import plotly.express as px\r\n",
    "\r\n",
    "fig = px.scatter_3d(data_frame=df, x='Length', y='Width', z='Weight')\r\n",
    "fig.add_trace(px.line_3d(x=np.linspace(10, 13), y=np.linspace(1, 2), z=-201.17285 + 20.11287 * np.linspace(10, 13) + 63.58511 * np.linspace(1, 2)).update_traces(line={'color': 'red'}).data[0])\r\n",
    "fig"
   ],
   "outputs": [
    {
     "output_type": "display_data",
     "data": {
      "application/vnd.plotly.v1+json": {
       "config": {
        "plotlyServerURL": "https://plot.ly"
       },
       "data": [
        {
         "hovertemplate": "Length=%{x}<br>Width=%{y}<br>Weight=%{z}<extra></extra>",
         "legendgroup": "",
         "marker": {
          "color": "#636efa",
          "symbol": "circle"
         },
         "mode": "markers",
         "name": "",
         "scene": "scene",
         "showlegend": false,
         "type": "scatter3d",
         "x": [
          9.3,
          10,
          10.1,
          10.1,
          10.2,
          10.3,
          10.4,
          10.7,
          10.8,
          11.1,
          11.2,
          11.3,
          11.3,
          11.4,
          11.5,
          11.7,
          12.1,
          12.2,
          12.4,
          12.5,
          12.7,
          12.9,
          13,
          13.2,
          13.8
         ],
         "y": [
          1.0476,
          1.16,
          1.1484,
          1.1821,
          1.256,
          1.3012,
          1.38,
          1.2772,
          1.2852,
          1.2834,
          1.2387,
          1.2838,
          1.1659,
          1.1484,
          1.3936,
          1.2690000000000001,
          1.2558,
          1.4467,
          1.382,
          1.5317,
          1.7251,
          1.984,
          1.954,
          2.0672,
          1.8792
         ],
         "z": [
          67,
          75,
          70,
          72,
          79,
          85,
          97,
          98,
          87,
          101,
          96,
          100,
          99,
          98,
          122,
          134,
          122,
          136,
          132,
          155,
          170,
          174,
          189,
          197,
          199
         ]
        },
        {
         "hovertemplate": "x=%{x}<br>y=%{y}<br>z=%{z}<extra></extra>",
         "legendgroup": "",
         "line": {
          "color": "red",
          "dash": "solid"
         },
         "mode": "lines",
         "name": "",
         "scene": "scene",
         "showlegend": false,
         "type": "scatter3d",
         "x": [
          10,
          10.061224489795919,
          10.122448979591837,
          10.183673469387756,
          10.244897959183673,
          10.306122448979592,
          10.36734693877551,
          10.428571428571429,
          10.489795918367347,
          10.551020408163264,
          10.612244897959183,
          10.673469387755102,
          10.73469387755102,
          10.795918367346939,
          10.857142857142858,
          10.918367346938776,
          10.979591836734693,
          11.040816326530612,
          11.10204081632653,
          11.16326530612245,
          11.224489795918368,
          11.285714285714285,
          11.346938775510203,
          11.408163265306122,
          11.46938775510204,
          11.53061224489796,
          11.591836734693878,
          11.653061224489797,
          11.714285714285714,
          11.775510204081632,
          11.83673469387755,
          11.89795918367347,
          11.959183673469388,
          12.020408163265305,
          12.081632653061224,
          12.142857142857142,
          12.204081632653061,
          12.26530612244898,
          12.326530612244898,
          12.387755102040817,
          12.448979591836736,
          12.510204081632653,
          12.571428571428571,
          12.63265306122449,
          12.693877551020408,
          12.755102040816325,
          12.816326530612244,
          12.877551020408163,
          12.938775510204081,
          13
         ],
         "y": [
          1,
          1.0204081632653061,
          1.0408163265306123,
          1.0612244897959184,
          1.0816326530612246,
          1.1020408163265305,
          1.1224489795918366,
          1.1428571428571428,
          1.163265306122449,
          1.183673469387755,
          1.2040816326530612,
          1.2244897959183674,
          1.2448979591836735,
          1.2653061224489797,
          1.2857142857142856,
          1.3061224489795917,
          1.3265306122448979,
          1.346938775510204,
          1.3673469387755102,
          1.3877551020408163,
          1.4081632653061225,
          1.4285714285714286,
          1.4489795918367347,
          1.4693877551020407,
          1.489795918367347,
          1.510204081632653,
          1.530612244897959,
          1.5510204081632653,
          1.5714285714285714,
          1.5918367346938775,
          1.6122448979591835,
          1.6326530612244898,
          1.6530612244897958,
          1.6734693877551021,
          1.693877551020408,
          1.7142857142857142,
          1.7346938775510203,
          1.7551020408163265,
          1.7755102040816326,
          1.7959183673469385,
          1.816326530612245,
          1.8367346938775508,
          1.8571428571428572,
          1.8775510204081631,
          1.8979591836734693,
          1.9183673469387754,
          1.9387755102040816,
          1.9591836734693877,
          1.9795918367346939,
          2
         ],
         "z": [
          63.54096,
          66.07001551020409,
          68.59907102040818,
          71.12812653061226,
          73.65718204081632,
          76.1862375510204,
          78.71529306122449,
          81.24434857142857,
          83.77340408163266,
          86.30245959183672,
          88.83151510204081,
          91.3605706122449,
          93.88962612244899,
          96.41868163265308,
          98.94773714285715,
          101.47679265306124,
          104.0058481632653,
          106.53490367346939,
          109.06395918367348,
          111.59301469387756,
          114.12207020408165,
          116.65112571428571,
          119.1801812244898,
          121.70923673469387,
          124.23829224489798,
          126.76734775510204,
          129.29640326530614,
          131.8254587755102,
          134.3545142857143,
          136.88356979591836,
          139.41262530612244,
          141.94168081632654,
          144.4707363265306,
          146.9997918367347,
          149.52884734693876,
          152.05790285714284,
          154.58695836734694,
          157.11601387755104,
          159.64506938775511,
          162.1741248979592,
          164.7031804081633,
          167.23223591836734,
          169.76129142857144,
          172.2903469387755,
          174.8194024489796,
          177.34845795918363,
          179.87751346938774,
          182.4065689795918,
          184.93562448979588,
          187.46468
         ]
        }
       ],
       "layout": {
        "legend": {
         "tracegroupgap": 0
        },
        "margin": {
         "t": 60
        },
        "scene": {
         "domain": {
          "x": [
           0,
           1
          ],
          "y": [
           0,
           1
          ]
         },
         "xaxis": {
          "title": {
           "text": "Length"
          }
         },
         "yaxis": {
          "title": {
           "text": "Width"
          }
         },
         "zaxis": {
          "title": {
           "text": "Weight"
          }
         }
        },
        "template": {
         "data": {
          "bar": [
           {
            "error_x": {
             "color": "#2a3f5f"
            },
            "error_y": {
             "color": "#2a3f5f"
            },
            "marker": {
             "line": {
              "color": "#E5ECF6",
              "width": 0.5
             }
            },
            "type": "bar"
           }
          ],
          "barpolar": [
           {
            "marker": {
             "line": {
              "color": "#E5ECF6",
              "width": 0.5
             }
            },
            "type": "barpolar"
           }
          ],
          "carpet": [
           {
            "aaxis": {
             "endlinecolor": "#2a3f5f",
             "gridcolor": "white",
             "linecolor": "white",
             "minorgridcolor": "white",
             "startlinecolor": "#2a3f5f"
            },
            "baxis": {
             "endlinecolor": "#2a3f5f",
             "gridcolor": "white",
             "linecolor": "white",
             "minorgridcolor": "white",
             "startlinecolor": "#2a3f5f"
            },
            "type": "carpet"
           }
          ],
          "choropleth": [
           {
            "colorbar": {
             "outlinewidth": 0,
             "ticks": ""
            },
            "type": "choropleth"
           }
          ],
          "contour": [
           {
            "colorbar": {
             "outlinewidth": 0,
             "ticks": ""
            },
            "colorscale": [
             [
              0,
              "#0d0887"
             ],
             [
              0.1111111111111111,
              "#46039f"
             ],
             [
              0.2222222222222222,
              "#7201a8"
             ],
             [
              0.3333333333333333,
              "#9c179e"
             ],
             [
              0.4444444444444444,
              "#bd3786"
             ],
             [
              0.5555555555555556,
              "#d8576b"
             ],
             [
              0.6666666666666666,
              "#ed7953"
             ],
             [
              0.7777777777777778,
              "#fb9f3a"
             ],
             [
              0.8888888888888888,
              "#fdca26"
             ],
             [
              1,
              "#f0f921"
             ]
            ],
            "type": "contour"
           }
          ],
          "contourcarpet": [
           {
            "colorbar": {
             "outlinewidth": 0,
             "ticks": ""
            },
            "type": "contourcarpet"
           }
          ],
          "heatmap": [
           {
            "colorbar": {
             "outlinewidth": 0,
             "ticks": ""
            },
            "colorscale": [
             [
              0,
              "#0d0887"
             ],
             [
              0.1111111111111111,
              "#46039f"
             ],
             [
              0.2222222222222222,
              "#7201a8"
             ],
             [
              0.3333333333333333,
              "#9c179e"
             ],
             [
              0.4444444444444444,
              "#bd3786"
             ],
             [
              0.5555555555555556,
              "#d8576b"
             ],
             [
              0.6666666666666666,
              "#ed7953"
             ],
             [
              0.7777777777777778,
              "#fb9f3a"
             ],
             [
              0.8888888888888888,
              "#fdca26"
             ],
             [
              1,
              "#f0f921"
             ]
            ],
            "type": "heatmap"
           }
          ],
          "heatmapgl": [
           {
            "colorbar": {
             "outlinewidth": 0,
             "ticks": ""
            },
            "colorscale": [
             [
              0,
              "#0d0887"
             ],
             [
              0.1111111111111111,
              "#46039f"
             ],
             [
              0.2222222222222222,
              "#7201a8"
             ],
             [
              0.3333333333333333,
              "#9c179e"
             ],
             [
              0.4444444444444444,
              "#bd3786"
             ],
             [
              0.5555555555555556,
              "#d8576b"
             ],
             [
              0.6666666666666666,
              "#ed7953"
             ],
             [
              0.7777777777777778,
              "#fb9f3a"
             ],
             [
              0.8888888888888888,
              "#fdca26"
             ],
             [
              1,
              "#f0f921"
             ]
            ],
            "type": "heatmapgl"
           }
          ],
          "histogram": [
           {
            "marker": {
             "colorbar": {
              "outlinewidth": 0,
              "ticks": ""
             }
            },
            "type": "histogram"
           }
          ],
          "histogram2d": [
           {
            "colorbar": {
             "outlinewidth": 0,
             "ticks": ""
            },
            "colorscale": [
             [
              0,
              "#0d0887"
             ],
             [
              0.1111111111111111,
              "#46039f"
             ],
             [
              0.2222222222222222,
              "#7201a8"
             ],
             [
              0.3333333333333333,
              "#9c179e"
             ],
             [
              0.4444444444444444,
              "#bd3786"
             ],
             [
              0.5555555555555556,
              "#d8576b"
             ],
             [
              0.6666666666666666,
              "#ed7953"
             ],
             [
              0.7777777777777778,
              "#fb9f3a"
             ],
             [
              0.8888888888888888,
              "#fdca26"
             ],
             [
              1,
              "#f0f921"
             ]
            ],
            "type": "histogram2d"
           }
          ],
          "histogram2dcontour": [
           {
            "colorbar": {
             "outlinewidth": 0,
             "ticks": ""
            },
            "colorscale": [
             [
              0,
              "#0d0887"
             ],
             [
              0.1111111111111111,
              "#46039f"
             ],
             [
              0.2222222222222222,
              "#7201a8"
             ],
             [
              0.3333333333333333,
              "#9c179e"
             ],
             [
              0.4444444444444444,
              "#bd3786"
             ],
             [
              0.5555555555555556,
              "#d8576b"
             ],
             [
              0.6666666666666666,
              "#ed7953"
             ],
             [
              0.7777777777777778,
              "#fb9f3a"
             ],
             [
              0.8888888888888888,
              "#fdca26"
             ],
             [
              1,
              "#f0f921"
             ]
            ],
            "type": "histogram2dcontour"
           }
          ],
          "mesh3d": [
           {
            "colorbar": {
             "outlinewidth": 0,
             "ticks": ""
            },
            "type": "mesh3d"
           }
          ],
          "parcoords": [
           {
            "line": {
             "colorbar": {
              "outlinewidth": 0,
              "ticks": ""
             }
            },
            "type": "parcoords"
           }
          ],
          "pie": [
           {
            "automargin": true,
            "type": "pie"
           }
          ],
          "scatter": [
           {
            "marker": {
             "colorbar": {
              "outlinewidth": 0,
              "ticks": ""
             }
            },
            "type": "scatter"
           }
          ],
          "scatter3d": [
           {
            "line": {
             "colorbar": {
              "outlinewidth": 0,
              "ticks": ""
             }
            },
            "marker": {
             "colorbar": {
              "outlinewidth": 0,
              "ticks": ""
             }
            },
            "type": "scatter3d"
           }
          ],
          "scattercarpet": [
           {
            "marker": {
             "colorbar": {
              "outlinewidth": 0,
              "ticks": ""
             }
            },
            "type": "scattercarpet"
           }
          ],
          "scattergeo": [
           {
            "marker": {
             "colorbar": {
              "outlinewidth": 0,
              "ticks": ""
             }
            },
            "type": "scattergeo"
           }
          ],
          "scattergl": [
           {
            "marker": {
             "colorbar": {
              "outlinewidth": 0,
              "ticks": ""
             }
            },
            "type": "scattergl"
           }
          ],
          "scattermapbox": [
           {
            "marker": {
             "colorbar": {
              "outlinewidth": 0,
              "ticks": ""
             }
            },
            "type": "scattermapbox"
           }
          ],
          "scatterpolar": [
           {
            "marker": {
             "colorbar": {
              "outlinewidth": 0,
              "ticks": ""
             }
            },
            "type": "scatterpolar"
           }
          ],
          "scatterpolargl": [
           {
            "marker": {
             "colorbar": {
              "outlinewidth": 0,
              "ticks": ""
             }
            },
            "type": "scatterpolargl"
           }
          ],
          "scatterternary": [
           {
            "marker": {
             "colorbar": {
              "outlinewidth": 0,
              "ticks": ""
             }
            },
            "type": "scatterternary"
           }
          ],
          "surface": [
           {
            "colorbar": {
             "outlinewidth": 0,
             "ticks": ""
            },
            "colorscale": [
             [
              0,
              "#0d0887"
             ],
             [
              0.1111111111111111,
              "#46039f"
             ],
             [
              0.2222222222222222,
              "#7201a8"
             ],
             [
              0.3333333333333333,
              "#9c179e"
             ],
             [
              0.4444444444444444,
              "#bd3786"
             ],
             [
              0.5555555555555556,
              "#d8576b"
             ],
             [
              0.6666666666666666,
              "#ed7953"
             ],
             [
              0.7777777777777778,
              "#fb9f3a"
             ],
             [
              0.8888888888888888,
              "#fdca26"
             ],
             [
              1,
              "#f0f921"
             ]
            ],
            "type": "surface"
           }
          ],
          "table": [
           {
            "cells": {
             "fill": {
              "color": "#EBF0F8"
             },
             "line": {
              "color": "white"
             }
            },
            "header": {
             "fill": {
              "color": "#C8D4E3"
             },
             "line": {
              "color": "white"
             }
            },
            "type": "table"
           }
          ]
         },
         "layout": {
          "annotationdefaults": {
           "arrowcolor": "#2a3f5f",
           "arrowhead": 0,
           "arrowwidth": 1
          },
          "autotypenumbers": "strict",
          "coloraxis": {
           "colorbar": {
            "outlinewidth": 0,
            "ticks": ""
           }
          },
          "colorscale": {
           "diverging": [
            [
             0,
             "#8e0152"
            ],
            [
             0.1,
             "#c51b7d"
            ],
            [
             0.2,
             "#de77ae"
            ],
            [
             0.3,
             "#f1b6da"
            ],
            [
             0.4,
             "#fde0ef"
            ],
            [
             0.5,
             "#f7f7f7"
            ],
            [
             0.6,
             "#e6f5d0"
            ],
            [
             0.7,
             "#b8e186"
            ],
            [
             0.8,
             "#7fbc41"
            ],
            [
             0.9,
             "#4d9221"
            ],
            [
             1,
             "#276419"
            ]
           ],
           "sequential": [
            [
             0,
             "#0d0887"
            ],
            [
             0.1111111111111111,
             "#46039f"
            ],
            [
             0.2222222222222222,
             "#7201a8"
            ],
            [
             0.3333333333333333,
             "#9c179e"
            ],
            [
             0.4444444444444444,
             "#bd3786"
            ],
            [
             0.5555555555555556,
             "#d8576b"
            ],
            [
             0.6666666666666666,
             "#ed7953"
            ],
            [
             0.7777777777777778,
             "#fb9f3a"
            ],
            [
             0.8888888888888888,
             "#fdca26"
            ],
            [
             1,
             "#f0f921"
            ]
           ],
           "sequentialminus": [
            [
             0,
             "#0d0887"
            ],
            [
             0.1111111111111111,
             "#46039f"
            ],
            [
             0.2222222222222222,
             "#7201a8"
            ],
            [
             0.3333333333333333,
             "#9c179e"
            ],
            [
             0.4444444444444444,
             "#bd3786"
            ],
            [
             0.5555555555555556,
             "#d8576b"
            ],
            [
             0.6666666666666666,
             "#ed7953"
            ],
            [
             0.7777777777777778,
             "#fb9f3a"
            ],
            [
             0.8888888888888888,
             "#fdca26"
            ],
            [
             1,
             "#f0f921"
            ]
           ]
          },
          "colorway": [
           "#636efa",
           "#EF553B",
           "#00cc96",
           "#ab63fa",
           "#FFA15A",
           "#19d3f3",
           "#FF6692",
           "#B6E880",
           "#FF97FF",
           "#FECB52"
          ],
          "font": {
           "color": "#2a3f5f"
          },
          "geo": {
           "bgcolor": "white",
           "lakecolor": "white",
           "landcolor": "#E5ECF6",
           "showlakes": true,
           "showland": true,
           "subunitcolor": "white"
          },
          "hoverlabel": {
           "align": "left"
          },
          "hovermode": "closest",
          "mapbox": {
           "style": "light"
          },
          "paper_bgcolor": "white",
          "plot_bgcolor": "#E5ECF6",
          "polar": {
           "angularaxis": {
            "gridcolor": "white",
            "linecolor": "white",
            "ticks": ""
           },
           "bgcolor": "#E5ECF6",
           "radialaxis": {
            "gridcolor": "white",
            "linecolor": "white",
            "ticks": ""
           }
          },
          "scene": {
           "xaxis": {
            "backgroundcolor": "#E5ECF6",
            "gridcolor": "white",
            "gridwidth": 2,
            "linecolor": "white",
            "showbackground": true,
            "ticks": "",
            "zerolinecolor": "white"
           },
           "yaxis": {
            "backgroundcolor": "#E5ECF6",
            "gridcolor": "white",
            "gridwidth": 2,
            "linecolor": "white",
            "showbackground": true,
            "ticks": "",
            "zerolinecolor": "white"
           },
           "zaxis": {
            "backgroundcolor": "#E5ECF6",
            "gridcolor": "white",
            "gridwidth": 2,
            "linecolor": "white",
            "showbackground": true,
            "ticks": "",
            "zerolinecolor": "white"
           }
          },
          "shapedefaults": {
           "line": {
            "color": "#2a3f5f"
           }
          },
          "ternary": {
           "aaxis": {
            "gridcolor": "white",
            "linecolor": "white",
            "ticks": ""
           },
           "baxis": {
            "gridcolor": "white",
            "linecolor": "white",
            "ticks": ""
           },
           "bgcolor": "#E5ECF6",
           "caxis": {
            "gridcolor": "white",
            "linecolor": "white",
            "ticks": ""
           }
          },
          "title": {
           "x": 0.05
          },
          "xaxis": {
           "automargin": true,
           "gridcolor": "white",
           "linecolor": "white",
           "ticks": "",
           "title": {
            "standoff": 15
           },
           "zerolinecolor": "white",
           "zerolinewidth": 2
          },
          "yaxis": {
           "automargin": true,
           "gridcolor": "white",
           "linecolor": "white",
           "ticks": "",
           "title": {
            "standoff": 15
           },
           "zerolinecolor": "white",
           "zerolinewidth": 2
          }
         }
        }
       }
      }
     },
     "metadata": {}
    }
   ],
   "metadata": {}
  }
 ],
 "metadata": {
  "orig_nbformat": 4,
  "language_info": {
   "name": "python",
   "version": "3.8.5",
   "mimetype": "text/x-python",
   "codemirror_mode": {
    "name": "ipython",
    "version": 3
   },
   "pygments_lexer": "ipython3",
   "nbconvert_exporter": "python",
   "file_extension": ".py"
  },
  "kernelspec": {
   "name": "python3",
   "display_name": "Python 3.8.5 32-bit"
  },
  "interpreter": {
   "hash": "571bacba9a29d47d526870ce679dff83b29c24567c7b1ef6e20c2daefc5a9ce9"
  }
 },
 "nbformat": 4,
 "nbformat_minor": 2
}